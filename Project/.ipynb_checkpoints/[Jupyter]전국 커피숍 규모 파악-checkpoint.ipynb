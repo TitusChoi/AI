{
 "cells": [
  {
   "cell_type": "markdown",
   "metadata": {},
   "source": [
    "# [Jupyter]전국 커피숍 규모 파악.ipynb\n",
    "Description   : 전국 커피숍 규모에 대한 분석"
   ]
  },
  {
   "cell_type": "code",
   "execution_count": 2,
   "metadata": {},
   "outputs": [
    {
     "name": "stdout",
     "output_type": "stream",
     "text": [
      "   number  sizeOfsite\n",
      "0       1       20.80\n",
      "1       2      212.72\n",
      "2       3       20.04\n",
      "3       4       64.17\n",
      "4       5       11.40\n",
      "(46832, 2)\n"
     ]
    }
   ],
   "source": [
    "import pandas as pd\n",
    "import numpy as np\n",
    "import matplotlib.pyplot as plt\n",
    "import os\n",
    "\n",
    "# data_coffee 경로 찾기 및 변경\n",
    "os.chdir(r\"C:\\Users\\TitusChoi\\Desktop\\Library\\CodeLion\\AI\")\n",
    "\n",
    "# data_coffee 데이터 불러오기, dataframe, encoding을 위해 engine='python' 활용\n",
    "df = pd.read_csv('./datasets/data_coffee.csv', engine='python')\n",
    "\n",
    "# data 수치 요약\n",
    "df1 = df.loc[:, ['number','sizeOfsite']]\n",
    "print(df1.head())\n",
    "print(df1.shape)"
   ]
  },
  {
   "cell_type": "code",
   "execution_count": 3,
   "metadata": {},
   "outputs": [
    {
     "name": "stdout",
     "output_type": "stream",
     "text": [
      "1341\n",
      "19\n",
      "최소값 : 0.0\n"
     ]
    }
   ],
   "source": [
    "# 결측치 개수 파악\n",
    "count = 0\n",
    "for number in df1['sizeOfsite']:\n",
    "    if number == 0:\n",
    "        count += 1\n",
    "print(count) # 0값 1341개\n",
    "\n",
    "# 결측치 개수 파악\n",
    "print(np.count_nonzero(df1.isnull())) # 결측치 19개\n",
    "\n",
    "print(\"최소값 :\", df1['sizeOfsite'].min()) # 최소값 0이 되는 형태 발생 -> 평균에 영향미침"
   ]
  },
  {
   "cell_type": "code",
   "execution_count": 4,
   "metadata": {},
   "outputs": [],
   "source": [
    "# 0을 nan 꼴로 변경\n",
    "df1 = df1.replace(0, np.nan)"
   ]
  },
  {
   "cell_type": "code",
   "execution_count": 5,
   "metadata": {},
   "outputs": [
    {
     "name": "stdout",
     "output_type": "stream",
     "text": [
      "# of data : 45472\n",
      "maximum value : 24075.0\n",
      "minimum value : 0.25\n",
      "average value : 77.75847268648839\n",
      "median value : 51.92\n",
      "standard error : 136.4329420629918\n",
      "variance : 18613.947679963676\n"
     ]
    }
   ],
   "source": [
    "# 통계적 데이터 : skipna 사용해도 됨\n",
    "print(\"# of data :\", df1['sizeOfsite'].count())\n",
    "print(\"maximum value :\", df1['sizeOfsite'].max())\n",
    "print(\"minimum value :\", df1['sizeOfsite'].min())\n",
    "print(\"average value :\", df1['sizeOfsite'].mean())\n",
    "print(\"median value :\", df1['sizeOfsite'].median())\n",
    "print(\"standard error :\", df1['sizeOfsite'].std())\n",
    "print(\"variance :\", df1['sizeOfsite'].var())"
   ]
  },
  {
   "cell_type": "code",
   "execution_count": 6,
   "metadata": {},
   "outputs": [
    {
     "data": {
      "image/png": "[encoded data removed]",
      "text/plain": [
       "<Figure size 432x288 with 1 Axes>"
      ]
     },
     "metadata": {
      "needs_background": "light"
     },
     "output_type": "display_data"
    }
   ],
   "source": [
    "# 결측치 제거 데이터로 plotting\n",
    "df2 = df1.dropna()\n",
    "fig = plt.figure()\n",
    "ax = fig.add_subplot(1,1,1)\n",
    "ax.plot(\n",
    "    df2['sizeOfsite']\n",
    "       )\n",
    "ax.hist(\n",
    "    df2['sizeOfsite']\n",
    "       )\n",
    "ax.set_title('Size of Coffee Shop at South Korea')\n",
    "ax.set_xlabel('Number of Coffee Shop')\n",
    "ax.set_ylabel('Size')\n",
    "plt.show()"
   ]
  },
  {
   "cell_type": "code",
   "execution_count": 8,
   "metadata": {},
   "outputs": [
    {
     "data": {
      "image/png": "[encoded data removed]",
      "text/plain": [
       "<Figure size 432x288 with 1 Axes>"
      ]
     },
     "metadata": {
      "needs_background": "light"
     },
     "output_type": "display_data"
    }
   ],
   "source": [
    "# 이상치 제거 데이터로 plotting : 500 이상 값 제거, 불린 추출 활용\n",
    "df3 = df2[(df2['sizeOfsite'] < 500)]\n",
    "\n",
    "fig = plt.figure()\n",
    "ax = fig.add_subplot(1,1,1)\n",
    "ax.plot(\n",
    "    df3['sizeOfsite']\n",
    "       )\n",
    "ax.hist(\n",
    "    df3['sizeOfsite']\n",
    "       )\n",
    "ax.set_title('Size of Coffee Shop at South Korea')\n",
    "ax.set_xlabel('Number of Coffee Shop')\n",
    "ax.set_ylabel('Size')\n",
    "plt.show()"
   ]
  },
  {
   "cell_type": "markdown",
   "metadata": {},
   "source": [
    "## 분석\n",
    "\n",
    "히스토그램은 작은 값부터 빈도를 늘려가는 그래프로 막대그래프랑은 전혀 다르다.\n",
    "\n",
    "1. 커피숍의 사이즈가 500 이하인 매점은 총 45360개이다.\n",
    "2. 커피 전문 브랜드는 매장의 크기보다 내실있는 지점의 개수를 늘리는 것에 집중하고 있다."
   ]
  }
 ],
 "metadata": {
  "kernelspec": {
   "display_name": "Python 3",
   "language": "python",
   "name": "python3"
  },
  "language_info": {
   "codemirror_mode": {
    "name": "ipython",
    "version": 3
   },
   "file_extension": ".py",
   "mimetype": "text/x-python",
   "name": "python",
   "nbconvert_exporter": "python",
   "pygments_lexer": "ipython3",
   "version": "3.7.3"
  }
 },
 "nbformat": 4,
 "nbformat_minor": 2
}
