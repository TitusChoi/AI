{
 "cells": [
  {
   "cell_type": "markdown",
   "metadata": {},
   "source": [
    "# 판매 실적.ipynb\n",
    "Description   : [2021.03.19]지역별 판매 실적 분석"
   ]
  },
  {
   "cell_type": "code",
   "execution_count": 1,
   "metadata": {},
   "outputs": [
    {
     "data": {
      "image/png": "[encoded data removed]",
      "text/plain": [
       "<Figure size 432x288 with 1 Axes>"
      ]
     },
     "metadata": {
      "needs_background": "light"
     },
     "output_type": "display_data"
    }
   ],
   "source": [
    "import pandas as pd\n",
    "import matplotlib.pyplot as plt\n",
    "import seaborn as sns\n",
    "import os\n",
    "\n",
    "# data_officesupplies 경로 찾기 및 변경\n",
    "os.chdir(r\"C:\\Users\\TitusChoi\\Desktop\\Library\\CodeLion\\AI\")\n",
    "\n",
    "# data_coffee 데이터 불러오기, dataframe\n",
    "df = pd.read_csv('./datasets/data_officesupplies.csv')\n",
    "\n",
    "# data 수치 요약\n",
    "ax = plt.figure()\n",
    "ax = sns.boxplot(x='Region', y='Units', data=df)\n",
    "ax.set_title('Sales Analysis about Region', fontsize='15')\n",
    "ax.set_xlabel('Region', fontsize='12')\n",
    "ax.set_ylabel('Units', fontsize='12')\n",
    "plt.show()"
   ]
  },
  {
   "cell_type": "markdown",
   "metadata": {},
   "source": [
    "## 분석\n",
    "\n",
    "Boxplot은 지역마다 어떤 최소값, 제1사분위수(25%), 제2사분위수(50%), 제3사분위수(75%), 최대값 판매량 분포를 볼 수 있는 그래프이다.\n",
    "1.  동쪽(East) 지역의 경우 중간 값이 다른 그래프에 비해 상대적으로 높다.<br>\n",
    "    즉, 대다수 지역의 판매량이 상위권이라고 볼 수 있다.\n",
    "2.  가운데(Central) 지역의 경우 중간 값이 East에 비해 낮지만 전반적인 판매량은 준수하다고 볼 수 있다.\n",
    "3.  서쪽(West) 지역의 경우 다른 두 지역에 비해 판매량은 저조하다.\n",
    "    하지만 절반의 지역에서 가운데 지역만큼 팔리고 있다."
   ]
  }
 ],
 "metadata": {
  "kernelspec": {
   "display_name": "Python 3",
   "language": "python",
   "name": "python3"
  },
  "language_info": {
   "codemirror_mode": {
    "name": "ipython",
    "version": 3
   },
   "file_extension": ".py",
   "mimetype": "text/x-python",
   "name": "python",
   "nbconvert_exporter": "python",
   "pygments_lexer": "ipython3",
   "version": "3.7.3"
  }
 },
 "nbformat": 4,
 "nbformat_minor": 2
}
