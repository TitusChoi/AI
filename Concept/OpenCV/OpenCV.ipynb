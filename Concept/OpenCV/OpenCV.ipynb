{
 "cells": [
  {
   "cell_type": "markdown",
   "metadata": {},
   "source": [
    "# OpenCV.ipynb\n",
    "Description   : OpenCV to do image processing<br>"
   ]
  },
  {
   "cell_type": "code",
   "execution_count": 1,
   "metadata": {},
   "outputs": [],
   "source": [
    "import cv2\n",
    "import os\n",
    "\n",
    "# MLP 경로로 초기화, MLP 기초 함수가 모두 들어있는 경로\n",
    "os.chdir(r\"C:\\Users\\TitusChoi\\Desktop\\Library\\CodeLion\\AI\")"
   ]
  },
  {
   "cell_type": "code",
   "execution_count": 2,
   "metadata": {},
   "outputs": [],
   "source": [
    "# 이미지 그 자체를 가져오기\n",
    "img_file = '.\\datasets\\OPENCV\\likelion.png'\n",
    "img = cv2.imread(img_file)\n",
    "if img is not None:\n",
    "    cv2.imshow('IMG', img)\n",
    "    cv2.waitKey()\n",
    "    cv2.destroyAllWindows()\n",
    "else:\n",
    "    print('NO Image file.')"
   ]
  },
  {
   "cell_type": "code",
   "execution_count": 2,
   "metadata": {},
   "outputs": [],
   "source": [
    "# 그레이 스케일 단위로 불러오기\n",
    "img_file = '.\\datasets\\OPENCV\\likelion.png'\n",
    "img = cv2.imread(img_file, cv2.IMREAD_GRAYSCALE)\n",
    "if img is not None:\n",
    "    cv2.imshow('IMG', img)\n",
    "    cv2.waitKey()\n",
    "    cv2.destroyAllWindows()\n",
    "else:\n",
    "    print('NO Image file.')"
   ]
  },
  {
   "cell_type": "markdown",
   "metadata": {},
   "source": [
    "이미지 파일에 저장<br>\n",
    "cv2.imwrite(file_path, img) : 이미지를 파일에 저장하는 함수\n",
    "- file.path : 저장할 파일 경로 이름, 문자열\n",
    "- img : 저장할 영상, Numpy 배열"
   ]
  },
  {
   "cell_type": "code",
   "execution_count": 3,
   "metadata": {},
   "outputs": [],
   "source": [
    "# 작업한 파일을 저장해주기\n",
    "img_file = '.\\datasets\\OPENCV\\likelion.png'\n",
    "save_file = '.\\datasets\\OPENCV\\likelion_gray.png'\n",
    "img = cv2.imread(img_file, cv2.IMREAD_GRAYSCALE)\n",
    "if img is not None:\n",
    "    cv2.imshow(img_file, img) # 이미지 파일을 특정 형태로 띄워줌\n",
    "    cv2.imwrite(save_file, img)# 파일로 실제 저장\n",
    "    cv2.waitKey()\n",
    "    cv2.destroyAllWindows()\n",
    "else:\n",
    "    print('NO Image file.')"
   ]
  },
  {
   "cell_type": "code",
   "execution_count": 6,
   "metadata": {},
   "outputs": [
    {
     "name": "stdout",
     "output_type": "stream",
     "text": [
      "출력 중지\n"
     ]
    }
   ],
   "source": [
    "# 영상 실행 및 캡처\n",
    "video_file = '.\\datasets\\OPENCV\\likelion_video.mp4'\n",
    "cap = cv2.VideoCapture(video_file)\n",
    "\n",
    "if cap.isOpened(): # 캡처 객체 초기화 과정\n",
    "    while True:\n",
    "        ret, img = cap.read()\n",
    "        if ret:\n",
    "            cv2.imshow('video_file', img)\n",
    "            if cv2.waitKey(1) != -1:\n",
    "                break\n",
    "            cv2.waitKey(25) # 25ms -> 40fps\n",
    "        else:\n",
    "            print('출력 중지')\n",
    "            break\n",
    "else:\n",
    "    print('No Video file.')\n",
    "\n",
    "cap.release()\n",
    "cv2.destroyAllWindows()"
   ]
  },
  {
   "cell_type": "code",
   "execution_count": 9,
   "metadata": {},
   "outputs": [
    {
     "name": "stdout",
     "output_type": "stream",
     "text": [
      "original width : 640, height : 480\n",
      "resized width : 320, resized height : 240\n"
     ]
    }
   ],
   "source": [
    "# 고화질 영상 크기 수정\n",
    "cap = cv2.VideoCapture(0)\n",
    "width = cap.get(cv2.CAP_PROP_FRAME_WIDTH) # 프레임 폭 값 구하기\n",
    "height = cap.get(cv2.CAP_PROP_FRAME_HEIGHT) # 프레임 높이 값 구하기\n",
    "print('original width : %d, height : %d' % (width, height))\n",
    "cap.set(cv2.CAP_PROP_FRAME_WIDTH, 320) # 320으로 너비 바꾸기\n",
    "cap.set(cv2.CAP_PROP_FRAME_HEIGHT, 240) # 240으로 높이 바꾸기\n",
    "resized_width = cap.get(cv2.CAP_PROP_FRAME_WIDTH)\n",
    "resized_height = cap.get(cv2.CAP_PROP_FRAME_HEIGHT)\n",
    "print('resized width : %d, resized height : %d' % (resized_width, resized_height))\n",
    "\n",
    "if cap.isOpened(): # 캡처 객체 초기화 과정\n",
    "    while True:\n",
    "        ret, img = cap.read()\n",
    "        if ret:\n",
    "            cv2.imshow('video_file', img)\n",
    "            if cv2.waitKey(1) != -1:\n",
    "                break\n",
    "            cv2.waitKey(25) # 25ms -> 40fps\n",
    "        else:\n",
    "            print('출력 중지')\n",
    "            break\n",
    "else:\n",
    "    print('No Video file.')\n",
    "\n",
    "cap.release()\n",
    "cv2.destroyAllWindows()"
   ]
  },
  {
   "cell_type": "markdown",
   "metadata": {},
   "source": [
    "Tracking을 위한 선을 그리는 기법을 알아보자."
   ]
  },
  {
   "cell_type": "code",
   "execution_count": 3,
   "metadata": {},
   "outputs": [
    {
     "data": {
      "text/plain": [
       "False"
      ]
     },
     "execution_count": 3,
     "metadata": {},
     "output_type": "execute_result"
    }
   ],
   "source": [
    "# 이미지나 비디오를 그리는 방법\n",
    "import numpy as np\n",
    "img = np.full((500, 500, 3), 255, dtype = np.uint8)\n",
    "cv2.imwrite('.\\datasets\\OPENCV\\black_500.jpg', img)"
   ]
  },
  {
   "cell_type": "markdown",
   "metadata": {},
   "source": [
    "직선 그리기<br>\n",
    "cv2.line(img, start, end, color,[thickness, lineType]) :\n",
    "- img : 그림 그릴 대상 이미지, numpy 배열\n",
    "- start : 선 시작 지점 좌표(x, y)\n",
    "- end : 선 끝 지점 좌표(x, y)\n",
    "- color : 선 색상(blue, green, red), 0 ~ 255 일반적인 웹과 순서가 그 반대임\n",
    "    - thickness = 1 : 선 두께\n",
    "    - lineType : 선 그리기 형식\n",
    "        - cv2.LINE_4 : 4 연결 선 알고리즘\n",
    "        - cv2.LINE_8 : 8 연결 선 알고리즘\n",
    "        - cv2.LINE_AA : 안티에얼리어싱(계단 현상 없는 선)"
   ]
  },
  {
   "cell_type": "code",
   "execution_count": null,
   "metadata": {},
   "outputs": [],
   "source": []
  }
 ],
 "metadata": {
  "kernelspec": {
   "display_name": "Python 3",
   "language": "python",
   "name": "python3"
  },
  "language_info": {
   "codemirror_mode": {
    "name": "ipython",
    "version": 3
   },
   "file_extension": ".py",
   "mimetype": "text/x-python",
   "name": "python",
   "nbconvert_exporter": "python",
   "pygments_lexer": "ipython3",
   "version": "3.7.3"
  }
 },
 "nbformat": 4,
 "nbformat_minor": 4
}
