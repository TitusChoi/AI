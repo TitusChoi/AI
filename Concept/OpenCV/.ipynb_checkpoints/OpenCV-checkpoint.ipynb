{
 "cells": [
  {
   "cell_type": "markdown",
   "metadata": {},
   "source": [
    "# OpenCV.ipynb\n",
    "Description   : OpenCV to do image processing<br>"
   ]
  },
  {
   "cell_type": "code",
   "execution_count": 1,
   "metadata": {},
   "outputs": [],
   "source": [
    "import cv2\n",
    "import os\n",
    "\n",
    "# MLP 경로로 초기화, MLP 기초 함수가 모두 들어있는 경로\n",
    "os.chdir(r\"C:\\Users\\TitusChoi\\Desktop\\Library\\CodeLion\\AI\")"
   ]
  },
  {
   "cell_type": "code",
   "execution_count": 2,
   "metadata": {},
   "outputs": [],
   "source": [
    "# 이미지 그 자체를 가져오기\n",
    "img_file = '.\\datasets\\OPENCV\\likelion.png'\n",
    "img = cv2.imread(img_file)\n",
    "if img is not None:\n",
    "    cv2.imshow('IMG', img)\n",
    "    cv2.waitKey()\n",
    "    cv2.destroyAllWindows()\n",
    "else:\n",
    "    print('NO Image file.')"
   ]
  },
  {
   "cell_type": "code",
   "execution_count": 2,
   "metadata": {},
   "outputs": [],
   "source": [
    "# 그레이 스케일 단위로 불러오기\n",
    "img_file = '.\\datasets\\OPENCV\\likelion.png'\n",
    "img = cv2.imread(img_file, cv2.IMREAD_GRAYSCALE)\n",
    "if img is not None:\n",
    "    cv2.imshow('IMG', img)\n",
    "    cv2.waitKey()\n",
    "    cv2.destroyAllWindows()\n",
    "else:\n",
    "    print('NO Image file.')"
   ]
  },
  {
   "cell_type": "markdown",
   "metadata": {},
   "source": [
    "이미지 파일에 저장<br>\n",
    "cv2.imwrite(file_path, img) : 이미지를 파일에 저장하는 함수\n",
    "- file.path : 저장할 파일 경로 이름, 문자열\n",
    "- img : 저장할 영상, Numpy 배열"
   ]
  },
  {
   "cell_type": "code",
   "execution_count": 3,
   "metadata": {},
   "outputs": [],
   "source": [
    "# 작업한 파일을 저장해주기\n",
    "img_file = '.\\datasets\\OPENCV\\likelion.png'\n",
    "save_file = '.\\datasets\\OPENCV\\likelion_gray.png'\n",
    "img = cv2.imread(img_file, cv2.IMREAD_GRAYSCALE)\n",
    "if img is not None:\n",
    "    cv2.imshow(img_file, img) # 이미지 파일을 특정 형태로 띄워줌\n",
    "    cv2.imwrite(save_file, img)# 파일로 실제 저장\n",
    "    cv2.waitKey()\n",
    "    cv2.destroyAllWindows()\n",
    "else:\n",
    "    print('NO Image file.')"
   ]
  },
  {
   "cell_type": "code",
   "execution_count": 6,
   "metadata": {},
   "outputs": [
    {
     "name": "stdout",
     "output_type": "stream",
     "text": [
      "출력 중지\n"
     ]
    }
   ],
   "source": [
    "# 영상 실행 및 캡처\n",
    "video_file = '.\\datasets\\OPENCV\\likelion_video.mp4'\n",
    "cap = cv2.VideoCapture(video_file)\n",
    "\n",
    "if cap.isOpened(): # 캡처 객체 초기화 과정\n",
    "    while True:\n",
    "        ret, img = cap.read()\n",
    "        if ret:\n",
    "            cv2.imshow('video_file', img)\n",
    "            if cv2.waitKey(1) != -1:\n",
    "                break\n",
    "            cv2.waitKey(25) # 25ms -> 40fps\n",
    "        else:\n",
    "            print('출력 중지')\n",
    "            break\n",
    "else:\n",
    "    print('No Video file.')\n",
    "\n",
    "cap.release()\n",
    "cv2.destroyAllWindows()"
   ]
  },
  {
   "cell_type": "code",
   "execution_count": 9,
   "metadata": {},
   "outputs": [
    {
     "name": "stdout",
     "output_type": "stream",
     "text": [
      "original width : 640, height : 480\n",
      "resized width : 320, resized height : 240\n"
     ]
    }
   ],
   "source": [
    "# 고화질 영상 크기 수정\n",
    "cap = cv2.VideoCapture(0)\n",
    "width = cap.get(cv2.CAP_PROP_FRAME_WIDTH) # 프레임 폭 값 구하기\n",
    "height = cap.get(cv2.CAP_PROP_FRAME_HEIGHT) # 프레임 높이 값 구하기\n",
    "print('original width : %d, height : %d' % (width, height))\n",
    "cap.set(cv2.CAP_PROP_FRAME_WIDTH, 320) # 320으로 너비 바꾸기\n",
    "cap.set(cv2.CAP_PROP_FRAME_HEIGHT, 240) # 240으로 높이 바꾸기\n",
    "resized_width = cap.get(cv2.CAP_PROP_FRAME_WIDTH)\n",
    "resized_height = cap.get(cv2.CAP_PROP_FRAME_HEIGHT)\n",
    "print('resized width : %d, resized height : %d' % (resized_width, resized_height))\n",
    "\n",
    "if cap.isOpened(): # 캡처 객체 초기화 과정\n",
    "    while True:\n",
    "        ret, img = cap.read()\n",
    "        if ret:\n",
    "            cv2.imshow('video_file', img)\n",
    "            if cv2.waitKey(1) != -1:\n",
    "                break\n",
    "            cv2.waitKey(25) # 25ms -> 40fps\n",
    "        else:\n",
    "            print('출력 중지')\n",
    "            break\n",
    "else:\n",
    "    print('No Video file.')\n",
    "\n",
    "cap.release()\n",
    "cv2.destroyAllWindows()"
   ]
  },
  {
   "cell_type": "markdown",
   "metadata": {},
   "source": [
    "Tracking을 위한 선을 그리는 기법을 알아보자."
   ]
  },
  {
   "cell_type": "code",
   "execution_count": 5,
   "metadata": {},
   "outputs": [
    {
     "name": "stdout",
     "output_type": "stream",
     "text": [
      "(130, 130, 3)\n"
     ]
    }
   ],
   "source": [
    "# 이미지 프로세싱 기본\n",
    "img = cv2.imread('.\\datasets\\OPENCV\\likelion.png')\n",
    "x = 300; y = 300; w = 130; h = 130 # roi 좌표\n",
    "roi = img[y : y + h, x : x + w]\n",
    "img_copy = roi.copy()\n",
    "\n",
    "print(roi.shape)\n",
    "\n",
    "# roi에 사각형 그리기\n",
    "cv2.rectangle(roi, (0, 0), (h - 1, w - 1), (0, 255, 0), 3)\n",
    "cv2.imshow('img', img)\n",
    "cv2.imshow('copy_img', img_copy)\n",
    "cv2.waitKey(0)\n",
    "cv2.destroyAllWindows()"
   ]
  },
  {
   "cell_type": "code",
   "execution_count": 10,
   "metadata": {},
   "outputs": [
    {
     "name": "stdout",
     "output_type": "stream",
     "text": [
      "x:443, y:311, w:110, h:100\n",
      "cropped.\n",
      "x:653, y:242, w:-183, h:187\n",
      "좌측 상단에서 우측 하단으로 드래그해주세요.\n",
      "x:534, y:213, w:-92, h:232\n",
      "좌측 상단에서 우측 하단으로 드래그해주세요.\n",
      "x:601, y:288, w:-281, h:169\n",
      "좌측 상단에서 우측 하단으로 드래그해주세요.\n",
      "x:236, y:222, w:432, h:294\n",
      "cropped.\n"
     ]
    }
   ],
   "source": [
    "isDragging = False\n",
    "x0, y0, w, h = -1, -1, -1, -1\n",
    "blue, red = (0, 255, 0), (0, 0, 255)\n",
    "\n",
    "def onMouse(event, x, y, flags, param): # 마우스 핸들 함수\n",
    "    global isDragging, x0, y0, img\n",
    "    if event == cv2.EVENT_LBUTTONDOWN:\n",
    "        isDragging = True\n",
    "        x0 = x\n",
    "        y0 = y\n",
    "    elif event == cv2.EVENT_MOUSEMOVE:\n",
    "        if isDragging:\n",
    "            img_draw = img.copy()\n",
    "            cv2.rectangle(img_draw, (x0, y0), (x, y), green, 2)\n",
    "            cv2.imshow('img', img_draw)\n",
    "    elif event == cv2.EVENT_LBUTTONUP:\n",
    "        if isDragging:\n",
    "            isDragging = False\n",
    "            w = x - x0\n",
    "            h = y - y0\n",
    "            print('x:%d, y:%d, w:%d, h:%d' % (x0, y0, w, h))\n",
    "            if w > 0 and h > 0:\n",
    "                img_draw = img.copy()\n",
    "                cv2.rectangle(img_draw, (x0, y0), (x, y), red, 2)\n",
    "                cv2.imshow('img', img_draw)\n",
    "                roi = img[y0 : y0 + h, x0 : x0 + w]\n",
    "                cv2.imshow('cropped', roi)\n",
    "                cv2.moveWindow('cropped', 0, 0)\n",
    "                cv2.imwrite('cropped.jpg', roi)\n",
    "                print('cropped.')\n",
    "            else:\n",
    "                cv2.imshow('img', img)\n",
    "                print('좌측 상단에서 우측 하단으로 드래그해주세요.')\n",
    "\n",
    "img = cv2.imread('.\\datasets\\OPENCV\\likelion.png')\n",
    "cv2.imshow('img', img)\n",
    "cv2.setMouseCallback('img', onMouse)\n",
    "cv2.waitKey()\n",
    "cv2.destroyAllWindows()"
   ]
  },
  {
   "cell_type": "code",
   "execution_count": 11,
   "metadata": {},
   "outputs": [
    {
     "name": "stdout",
     "output_type": "stream",
     "text": [
      "542 311 0 0\n"
     ]
    }
   ],
   "source": [
    "# 관심 영역을 저장하기 위한 함수\n",
    "img = cv2.imread('.\\datasets\\OPENCV\\likelion.png')\n",
    "\n",
    "# 창의 이름, ROI 선택을 진행할 이미지, 선택 영역 중심에 + 표시\n",
    "x, y, w, h = cv2.selectROI('img', img, True)\n",
    "\n",
    "if w and h :\n",
    "    roi = img[y : y + h, x : x + w]\n",
    "    cv2.imshow('cropped', roi)\n",
    "    cv2.moveWindow('cropped', 0, 0)\n",
    "    # roi 영역 추출 후 저장\n",
    "    cv2.imwrite('.\\datasets\\OPENCV\\likelion_cut.png', roi)\n",
    "cv2.imshow('img', img)\n",
    "cv2.waitKey(0)\n",
    "cv2.destroyAllWindows()\n",
    "print(x, y, w, h)"
   ]
  },
  {
   "cell_type": "code",
   "execution_count": null,
   "metadata": {},
   "outputs": [],
   "source": []
  }
 ],
 "metadata": {
  "kernelspec": {
   "display_name": "Python 3",
   "language": "python",
   "name": "python3"
  },
  "language_info": {
   "codemirror_mode": {
    "name": "ipython",
    "version": 3
   },
   "file_extension": ".py",
   "mimetype": "text/x-python",
   "name": "python",
   "nbconvert_exporter": "python",
   "pygments_lexer": "ipython3",
   "version": "3.7.3"
  }
 },
 "nbformat": 4,
 "nbformat_minor": 4
}
