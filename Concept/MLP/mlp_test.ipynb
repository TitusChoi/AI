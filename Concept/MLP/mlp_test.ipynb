{
 "cells": [
  {
   "cell_type": "markdown",
   "metadata": {},
   "source": [
    "# mlp_test.ipynb\n",
    "Description   : Multiple layer perceptron to solve general problems<br>"
   ]
  },
  {
   "cell_type": "code",
   "execution_count": 7,
   "metadata": {},
   "outputs": [
    {
     "name": "stdout",
     "output_type": "stream",
     "text": [
      "은닉 계층 0개를 갖는 다층 퍼셉트론이 작동되었습니다.\n",
      "Epoch 1 : Train - loss = 33.583, accuracy = 0.553 / Test = 0.809\n",
      "Epoch 2 : Train - loss = 8.113, accuracy = 0.821 / Test = 0.808\n",
      "Epoch 3 : Train - loss = 7.471, accuracy = 0.813 / Test = 0.803\n",
      "Epoch 4 : Train - loss = 7.373, accuracy = 0.810 / Test = 0.803\n",
      "Epoch 5 : Train - loss = 7.298, accuracy = 0.810 / Test = 0.803\n",
      "Epoch 6 : Train - loss = 7.235, accuracy = 0.810 / Test = 0.804\n",
      "Epoch 7 : Train - loss = 7.181, accuracy = 0.810 / Test = 0.805\n",
      "Epoch 8 : Train - loss = 7.131, accuracy = 0.810 / Test = 0.805\n",
      "Epoch 9 : Train - loss = 7.090, accuracy = 0.810 / Test = 0.805\n",
      "Epoch 10 : Train - loss = 7.053, accuracy = 0.810 / Test = 0.805\n",
      "\n",
      " 최종 테스트 : Final accuracy = 0.805\n"
     ]
    }
   ],
   "source": [
    "%run abalone.ipynb\n",
    "%run mlp.ipynb\n",
    "\n",
    "set_hidden([])\n",
    "regression_exec()"
   ]
  },
  {
   "cell_type": "code",
   "execution_count": 8,
   "metadata": {},
   "outputs": [
    {
     "name": "stdout",
     "output_type": "stream",
     "text": [
      "은닉 계층 하나를 갖는 다층 퍼셉트론이 작동되었습니다.\n",
      "Epoch 10 : Train - loss = 6.789, accuracy = 0.807 / Test = 0.808\n",
      "Epoch 20 : Train - loss = 6.230, accuracy = 0.815 / Test = 0.820\n",
      "Epoch 30 : Train - loss = 5.548, accuracy = 0.827 / Test = 0.834\n",
      "Epoch 40 : Train - loss = 5.129, accuracy = 0.835 / Test = 0.845\n",
      "Epoch 50 : Train - loss = 5.020, accuracy = 0.837 / Test = 0.834\n",
      "\n",
      " 최종 테스트 : Final accuracy = 0.834\n"
     ]
    }
   ],
   "source": [
    "set_hidden(4)\n",
    "regression_exec(epoch_count=50, report=10)"
   ]
  },
  {
   "cell_type": "code",
   "execution_count": 4,
   "metadata": {},
   "outputs": [
    {
     "name": "stdout",
     "output_type": "stream",
     "text": [
      "은닉 계층 하나를 갖는 다층 퍼셉트론이 작동되었습니다.\n",
      "Epoch 10 : Train - loss = 6.667, accuracy = 0.808 / Test = 0.808\n",
      "Epoch 20 : Train - loss = 6.139, accuracy = 0.817 / Test = 0.812\n",
      "Epoch 30 : Train - loss = 5.464, accuracy = 0.829 / Test = 0.829\n",
      "Epoch 40 : Train - loss = 5.010, accuracy = 0.836 / Test = 0.846\n",
      "Epoch 50 : Train - loss = 4.860, accuracy = 0.840 / Test = 0.842\n",
      "\n",
      " 최종 테스트 : Final accuracy = 0.842\n"
     ]
    }
   ],
   "source": [
    "regression_exec(epoch_count=50, report=10)"
   ]
  },
  {
   "cell_type": "code",
   "execution_count": 6,
   "metadata": {},
   "outputs": [
    {
     "name": "stdout",
     "output_type": "stream",
     "text": [
      "은닉 계층 하나를 갖는 다층 퍼셉트론이 작동되었습니다.\n",
      "Epoch 10: loss=0.091, \n",
      " accuracy:0.093, precision:0.931, recall:0.070, f1:0.130\n",
      "Epoch 20: loss=0.088, \n",
      " accuracy:0.093, precision:0.924, recall:0.070, f1:0.130\n",
      "Epoch 30: loss=0.086, \n",
      " accuracy:0.093, precision:0.929, recall:0.071, f1:0.133\n",
      "Epoch 40: loss=0.085, \n",
      " accuracy:0.093, precision:0.920, recall:0.072, f1:0.134\n",
      "Epoch 50: loss=0.084, \n",
      " accuracy:0.093, precision:0.921, recall:0.073, f1:0.136\n",
      "\n",
      "Final Test: accuracy:0.093, precision:0.921, recall:0.073, f1:0.136\n"
     ]
    }
   ],
   "source": [
    "%run pulsar_stars_f1score.ipynb\n",
    "%run mlp.ipynb\n",
    "set_hidden(6)\n",
    "binary_classification_exec(epoch_count=50, report=10)"
   ]
  },
  {
   "cell_type": "code",
   "execution_count": 7,
   "metadata": {},
   "outputs": [
    {
     "name": "stdout",
     "output_type": "stream",
     "text": [
      "은닉 계층 1개를 갖는 다층 퍼셉트론이 작동되었습니다.\n",
      "Epoch 10: loss=0.095, \n",
      " accuracy:0.096, precision:0.931, recall:0.074, f1:0.137\n",
      "Epoch 20: loss=0.091, \n",
      " accuracy:0.096, precision:0.871, recall:0.081, f1:0.149\n",
      "Epoch 30: loss=0.090, \n",
      " accuracy:0.096, precision:0.933, recall:0.076, f1:0.140\n",
      "Epoch 40: loss=0.090, \n",
      " accuracy:0.096, precision:0.945, recall:0.075, f1:0.138\n",
      "Epoch 50: loss=0.088, \n",
      " accuracy:0.096, precision:0.917, recall:0.079, f1:0.145\n",
      "\n",
      "Final Test: accuracy:0.096, precision:0.917, recall:0.079, f1:0.145\n"
     ]
    }
   ],
   "source": [
    "set_hidden([6])\n",
    "binary_classification_exec(epoch_count=50, report=10)"
   ]
  },
  {
   "cell_type": "code",
   "execution_count": 8,
   "metadata": {},
   "outputs": [
    {
     "name": "stdout",
     "output_type": "stream",
     "text": [
      "은닉 계층 2개를 갖는 다층 퍼셉트론이 작동되었습니다.\n",
      "Epoch 40: loss=0.108, \n",
      " accuracy:0.091, precision:0.911, recall:0.073, f1:0.135\n",
      "Epoch 80: loss=0.095, \n",
      " accuracy:0.091, precision:0.914, recall:0.076, f1:0.140\n",
      "Epoch 120: loss=0.091, \n",
      " accuracy:0.091, precision:0.896, recall:0.076, f1:0.141\n",
      "Epoch 160: loss=0.090, \n",
      " accuracy:0.091, precision:0.895, recall:0.076, f1:0.140\n",
      "Epoch 200: loss=0.088, \n",
      " accuracy:0.091, precision:0.890, recall:0.077, f1:0.141\n",
      "\n",
      "Final Test: accuracy:0.091, precision:0.890, recall:0.077, f1:0.141\n"
     ]
    }
   ],
   "source": [
    "set_hidden([12,6])\n",
    "binary_classification_exec(epoch_count=200, report=40)"
   ]
  },
  {
   "cell_type": "code",
   "execution_count": 1,
   "metadata": {},
   "outputs": [
    {
     "name": "stdout",
     "output_type": "stream",
     "text": [
      "은닉 계층 하나를 갖는 다층 퍼셉트론이 작동되었습니다.\n",
      "Epoch 10 : Train - loss = 1.857, accuracy = 0.343 / Test = 0.358\n",
      "Epoch 20 : Train - loss = 1.796, accuracy = 0.343 / Test = 0.358\n",
      "Epoch 30 : Train - loss = 1.757, accuracy = 0.343 / Test = 0.358\n",
      "Epoch 40 : Train - loss = 1.732, accuracy = 0.343 / Test = 0.358\n",
      "Epoch 50 : Train - loss = 1.716, accuracy = 0.343 / Test = 0.358\n",
      "\n",
      " 최종 테스트 : Final accuracy = 0.358\n"
     ]
    }
   ],
   "source": [
    "%run faults.ipynb\n",
    "%run mlp.ipynb\n",
    "\n",
    "set_hidden(10)\n",
    "multi_class_exec(epoch_count=50, report=10)"
   ]
  },
  {
   "cell_type": "code",
   "execution_count": 11,
   "metadata": {},
   "outputs": [
    {
     "name": "stdout",
     "output_type": "stream",
     "text": [
      "은닉 계층 3개를 갖는 다층 퍼셉트론이 작동되었습니다.\n",
      "Epoch 10 : Train - loss = 1.861, accuracy = 0.339 / Test = 0.371\n",
      "Epoch 20 : Train - loss = 1.801, accuracy = 0.339 / Test = 0.371\n",
      "Epoch 30 : Train - loss = 1.763, accuracy = 0.339 / Test = 0.371\n",
      "Epoch 40 : Train - loss = 1.739, accuracy = 0.339 / Test = 0.371\n",
      "Epoch 50 : Train - loss = 1.723, accuracy = 0.339 / Test = 0.371\n",
      "\n",
      " 최종 테스트 : Final accuracy = 0.371\n"
     ]
    }
   ],
   "source": [
    "set_hidden([12, 6, 4])\n",
    "multi_class_exec(epoch_count=50, report=10)"
   ]
  },
  {
   "cell_type": "code",
   "execution_count": 12,
   "metadata": {},
   "outputs": [
    {
     "name": "stdout",
     "output_type": "stream",
     "text": [
      "은닉 계층 3개를 갖는 다층 퍼셉트론이 작동되었습니다.\n",
      "Epoch 10 : Train - loss = 1.650, accuracy = 0.249 / Test = 0.356\n",
      "Epoch 20 : Train - loss = 1.645, accuracy = 0.335 / Test = 0.497\n",
      "Epoch 30 : Train - loss = 1.635, accuracy = 0.383 / Test = 0.424\n",
      "Epoch 40 : Train - loss = 1.619, accuracy = 0.427 / Test = 0.446\n",
      "Epoch 50 : Train - loss = 1.606, accuracy = 0.431 / Test = 0.479\n",
      "\n",
      " 최종 테스트 : Final accuracy = 0.479\n"
     ]
    }
   ],
   "source": [
    "LEARNING_RATE=0.0001\n",
    "hidden_config = [12, 6, 4]\n",
    "multi_class_exec(epoch_count=50, report=10)"
   ]
  },
  {
   "cell_type": "code",
   "execution_count": null,
   "metadata": {
    "collapsed": false,
    "jupyter": {
     "outputs_hidden": false
    },
    "pycharm": {
     "name": "#%%\n"
    }
   },
   "outputs": [],
   "source": []
  }
 ],
 "metadata": {
  "kernelspec": {
   "display_name": "Python 3",
   "language": "python",
   "name": "python3"
  },
  "language_info": {
   "codemirror_mode": {
    "name": "ipython",
    "version": 3
   },
   "file_extension": ".py",
   "mimetype": "text/x-python",
   "name": "python",
   "nbconvert_exporter": "python",
   "pygments_lexer": "ipython3",
   "version": "3.7.3"
  }
 },
 "nbformat": 4,
 "nbformat_minor": 4
}
