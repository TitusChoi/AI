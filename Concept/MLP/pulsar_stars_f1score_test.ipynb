{
 "cells": [
  {
   "cell_type": "markdown",
   "metadata": {},
   "source": [
    "# pulsar_stars_f1score_test.ipynb\n",
    "Description   : Multiple layer perceptron to solve general problems<br>"
   ]
  },
  {
   "cell_type": "code",
   "execution_count": 1,
   "metadata": {
    "id": "vNf-yhPopgOx"
   },
   "outputs": [],
   "source": [
    "%run pulsar_stars_f1score.ipynb"
   ]
  },
  {
   "cell_type": "code",
   "execution_count": 2,
   "metadata": {
    "id": "aPqLOdHepgO0"
   },
   "outputs": [
    {
     "name": "stdout",
     "output_type": "stream",
     "text": [
      "Epoch 1: loss=0.421, \n",
      " accuracy:0.505, precision:0.904, recall:0.510, f1:0.652\n",
      "Epoch 2: loss=0.407, \n",
      " accuracy:0.505, precision:0.977, recall:0.468, f1:0.633\n",
      "Epoch 3: loss=0.374, \n",
      " accuracy:0.505, precision:0.886, recall:0.517, f1:0.653\n",
      "Epoch 4: loss=0.383, \n",
      " accuracy:0.505, precision:0.986, recall:0.462, f1:0.629\n",
      "Epoch 5: loss=0.382, \n",
      " accuracy:0.505, precision:0.525, recall:0.929, f1:0.671\n",
      "Epoch 6: loss=0.372, \n",
      " accuracy:0.505, precision:0.947, recall:0.487, f1:0.644\n",
      "Epoch 7: loss=0.380, \n",
      " accuracy:0.505, precision:0.965, recall:0.482, f1:0.642\n",
      "Epoch 8: loss=0.382, \n",
      " accuracy:0.505, precision:0.932, recall:0.499, f1:0.650\n",
      "Epoch 9: loss=0.363, \n",
      " accuracy:0.505, precision:0.932, recall:0.497, f1:0.648\n",
      "Epoch 10: loss=0.370, \n",
      " accuracy:0.505, precision:0.882, recall:0.522, f1:0.656\n",
      "\n",
      "Final Test: accuracy:0.505, precision:0.882, recall:0.522, f1:0.656\n"
     ]
    }
   ],
   "source": [
    "binary_classification_exec(adjust_ratio=True)"
   ]
  },
  {
   "cell_type": "code",
   "execution_count": 3,
   "metadata": {
    "id": "ya0d1Uw2tLhT"
   },
   "outputs": [
    {
     "name": "stdout",
     "output_type": "stream",
     "text": [
      "Epoch 1: loss=0.149, \n",
      " accuracy:0.087, precision:0.872, recall:0.072, f1:0.134\n",
      "Epoch 2: loss=0.138, \n",
      " accuracy:0.087, precision:0.957, recall:0.064, f1:0.121\n",
      "Epoch 3: loss=0.160, \n",
      " accuracy:0.087, precision:0.958, recall:0.065, f1:0.122\n",
      "Epoch 4: loss=0.131, \n",
      " accuracy:0.087, precision:0.959, recall:0.067, f1:0.125\n",
      "Epoch 5: loss=0.129, \n",
      " accuracy:0.087, precision:0.977, recall:0.061, f1:0.116\n",
      "Epoch 6: loss=0.127, \n",
      " accuracy:0.087, precision:0.784, recall:0.076, f1:0.138\n",
      "Epoch 7: loss=0.127, \n",
      " accuracy:0.087, precision:0.974, recall:0.064, f1:0.120\n",
      "Epoch 8: loss=0.118, \n",
      " accuracy:0.087, precision:0.912, recall:0.071, f1:0.131\n",
      "Epoch 9: loss=0.127, \n",
      " accuracy:0.087, precision:0.951, recall:0.067, f1:0.125\n",
      "Epoch 10: loss=0.133, \n",
      " accuracy:0.087, precision:0.902, recall:0.071, f1:0.131\n",
      "\n",
      "Final Test: accuracy:0.087, precision:0.902, recall:0.071, f1:0.131\n"
     ]
    }
   ],
   "source": [
    "binary_classification_exec(adjust_ratio=False)"
   ]
  },
  {
   "cell_type": "code",
   "execution_count": null,
   "metadata": {},
   "outputs": [],
   "source": []
  }
 ],
 "metadata": {
  "colab": {
   "name": "신경망(이진분류_정확도 측정 방법 개선).ipynb",
   "provenance": []
  },
  "kernelspec": {
   "display_name": "Python 3",
   "language": "python",
   "name": "python3"
  },
  "language_info": {
   "codemirror_mode": {
    "name": "ipython",
    "version": 3
   },
   "file_extension": ".py",
   "mimetype": "text/x-python",
   "name": "python",
   "nbconvert_exporter": "python",
   "pygments_lexer": "ipython3",
   "version": "3.7.3"
  }
 },
 "nbformat": 4,
 "nbformat_minor": 4
}
