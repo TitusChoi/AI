{
 "cells": [
  {
   "cell_type": "code",
   "execution_count": 2,
   "metadata": {
    "collapsed": false,
    "jupyter": {
     "outputs_hidden": false
    },
    "pycharm": {
     "name": "#%%\n"
    }
   },
   "outputs": [],
   "source": [
    "%run pulsar_stars.ipynb"
   ]
  },
  {
   "cell_type": "code",
   "execution_count": 3,
   "metadata": {
    "collapsed": false,
    "jupyter": {
     "outputs_hidden": false
    },
    "pycharm": {
     "name": "#%%\n"
    }
   },
   "outputs": [
    {
     "name": "stdout",
     "output_type": "stream",
     "text": [
      "Epoch 1 : Train - loss = 0.155, accuracy = 0.957 / Test = 0.966\n",
      "Epoch 2 : Train - loss = 0.153, accuracy = 0.964 / Test = 0.971\n",
      "Epoch 3 : Train - loss = 0.126, accuracy = 0.967 / Test = 0.967\n",
      "Epoch 4 : Train - loss = 0.133, accuracy = 0.967 / Test = 0.971\n",
      "Epoch 5 : Train - loss = 0.127, accuracy = 0.968 / Test = 0.972\n",
      "Epoch 6 : Train - loss = 0.131, accuracy = 0.966 / Test = 0.952\n",
      "Epoch 7 : Train - loss = 0.170, accuracy = 0.966 / Test = 0.975\n",
      "Epoch 8 : Train - loss = 0.129, accuracy = 0.970 / Test = 0.972\n",
      "Epoch 9 : Train - loss = 0.133, accuracy = 0.968 / Test = 0.975\n",
      "Epoch 10 : Train - loss = 0.124, accuracy = 0.968 / Test = 0.967\n",
      "\n",
      " 최종 테스트 : Final accuracy = 0.967\n"
     ]
    }
   ],
   "source": [
    "binary_classification_exec()"
   ]
  },
  {
   "cell_type": "code",
   "execution_count": null,
   "metadata": {},
   "outputs": [],
   "source": []
  }
 ],
 "metadata": {
  "colab": {
   "name": "신경망(이진분류)_사전배포.ipynb",
   "provenance": []
  },
  "kernelspec": {
   "display_name": "Python 3",
   "language": "python",
   "name": "python3"
  },
  "language_info": {
   "codemirror_mode": {
    "name": "ipython",
    "version": 3
   },
   "file_extension": ".py",
   "mimetype": "text/x-python",
   "name": "python",
   "nbconvert_exporter": "python",
   "pygments_lexer": "ipython3",
   "version": "3.7.3"
  }
 },
 "nbformat": 4,
 "nbformat_minor": 4
}
