{
 "cells": [
  {
   "cell_type": "code",
   "execution_count": 2,
   "metadata": {},
   "outputs": [],
   "source": [
    "%run dataset.ipynb"
   ]
  },
  {
   "cell_type": "code",
   "execution_count": 5,
   "metadata": {},
   "outputs": [],
   "source": [
    "class PulsarDataset(Dataset):\n",
    "    def __init__(self):\n",
    "        super(PulsarDataset, self).__init__('pulsar', 'binary')\n",
    "    \n",
    "        rows, _ = load_csv('C:/Users/TitusChoi/Desktop/Library/CodeLion/AI/datasets/pulsar_stars.csv')\n",
    "\n",
    "        data = np.asarray(rows, dtype='float32')\n",
    "        self.shuffle_data(data[:,:-1], data[:,-1:], 0.8)\n",
    "        self.target_names = ['별', '펄서']\n",
    "        \n",
    "    def visualize(self, xs, estimates, answers):\n",
    "        for n in range(len(xs)):\n",
    "            x, est, ans = xs[n], estimates[n], answers[n]\n",
    "            xstr = vector_to_str(x, '%5.1f', 3)\n",
    "            estr = self.target_names[int(round(est[0]))]\n",
    "            astr = self.target_names[int(round(ans[0]))]\n",
    "            rstr = 'O'\n",
    "            if estr != astr: rstr = 'X'\n",
    "            print('{} => 추정 {}(확률 {:4.2f}) : 정답 {} => {}'. \\\n",
    "                  format(xstr, estr, est[0], astr, rstr))"
   ]
  },
  {
   "cell_type": "code",
   "execution_count": null,
   "metadata": {},
   "outputs": [],
   "source": []
  }
 ],
 "metadata": {
  "kernelspec": {
   "display_name": "Python 3",
   "language": "python",
   "name": "python3"
  },
  "language_info": {
   "codemirror_mode": {
    "name": "ipython",
    "version": 3
   },
   "file_extension": ".py",
   "mimetype": "text/x-python",
   "name": "python",
   "nbconvert_exporter": "python",
   "pygments_lexer": "ipython3",
   "version": "3.7.3"
  }
 },
 "nbformat": 4,
 "nbformat_minor": 4
}
