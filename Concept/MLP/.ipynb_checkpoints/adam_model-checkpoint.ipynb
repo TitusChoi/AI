{
 "cells": [
  {
   "cell_type": "markdown",
   "metadata": {},
   "source": [
    "# adam_model.ipynb\n",
    "Description   : Multiple layer perceptron to solve general problems<br>"
   ]
  },
  {
   "cell_type": "code",
   "execution_count": 1,
   "metadata": {},
   "outputs": [],
   "source": [
    "%run mlp_model.ipynb"
   ]
  },
  {
   "cell_type": "markdown",
   "metadata": {},
   "source": [
    "아담 알고리즘의 적용 여부에 따른 성능 관찰이 필요하다. 이때 플래그 값(self.use_adam)을 초기화 메서드에서 설정해준다."
   ]
  },
  {
   "cell_type": "code",
   "execution_count": 2,
   "metadata": {},
   "outputs": [],
   "source": [
    "class AdamModel(MlpModel):\n",
    "    def __init__(self, name, dataset, hconfigs): # 초기화 메서드, 이름, 데이터 셋, 은닉층 정보\n",
    "        self.use_adam = False # 플래그\n",
    "        super(AdamModel, self).__init__(name, dataset, hconfigs)"
   ]
  },
  {
   "cell_type": "code",
   "execution_count": 3,
   "metadata": {},
   "outputs": [],
   "source": [
    "# Adam 역전파 신경망\n",
    "def adam_backprop_layer(self, G_y, hconfig, pm, aux):\n",
    "    x, y = aux\n",
    "\n",
    "    if hconfig is not None: G_y = relu_derv(y) * G_y\n",
    "\n",
    "    g_y_weight = x.transpose()\n",
    "    g_y_input = pm['w'].transpose()\n",
    "\n",
    "    G_weight = np.matmul(g_y_weight, G_y)\n",
    "    G_bias = np.sum(G_y, axis=0)\n",
    "    G_input = np.matmul(G_y, g_y_input)\n",
    "\n",
    "    # 기존 역전파 연산에서 달라지는 부분\n",
    "    self.update_param(pm, 'w', G_weight) # 가중치\n",
    "    self.update_param(pm, 'b', G_bias) # 편향\n",
    "\n",
    "    return G_input\n",
    "\n",
    "AdamModel.backprop_layer = adam_backprop_layer"
   ]
  },
  {
   "cell_type": "code",
   "execution_count": 4,
   "metadata": {},
   "outputs": [],
   "source": [
    "# parameter 갱신\n",
    "def adam_update_param(self, pm, key, delta):\n",
    "    if self.use_adam:\n",
    "        delta = self.eval_adam_delta(pm, key, delta)\n",
    "        \n",
    "    pm[key] -= self.learning_rate * delta # 업데이트 갱신식\n",
    "\n",
    "AdamModel.update_param = adam_update_param"
   ]
  },
  {
   "cell_type": "code",
   "execution_count": null,
   "metadata": {},
   "outputs": [],
   "source": [
    "def adam_eval_delta(self, pm, key, delta):\n",
    "    # adam 논문에 나온 변수값 목록\n",
    "    beta_1 = 0.9\n",
    "    beta_2 = 0.999\n",
    "    epsilon = 1.0e-8\n",
    "    \n",
    "    skey, tkey, step = 's' + key, 't' + key, 'n' + key\n",
    "    if skey not in pm:\n",
    "        pm[skey] = np.zeros(pm[key].shape)\n",
    "        pm"
   ]
  }
 ],
 "metadata": {
  "kernelspec": {
   "display_name": "Python 3",
   "language": "python",
   "name": "python3"
  },
  "language_info": {
   "codemirror_mode": {
    "name": "ipython",
    "version": 3
   },
   "file_extension": ".py",
   "mimetype": "text/x-python",
   "name": "python",
   "nbconvert_exporter": "python",
   "pygments_lexer": "ipython3",
   "version": "3.7.3"
  }
 },
 "nbformat": 4,
 "nbformat_minor": 4
}
