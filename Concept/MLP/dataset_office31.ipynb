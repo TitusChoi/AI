{
 "cells": [
  {
   "cell_type": "markdown",
   "metadata": {},
   "source": [
    "# dataset_office31.ipynb\n",
    "Description   : Multiple layer perceptron to solve general problems<br>\n",
    "office31 데이터 처리를 위한 데이터셋"
   ]
  },
  {
   "cell_type": "code",
   "execution_count": 21,
   "metadata": {},
   "outputs": [],
   "source": [
    "%run dataset.ipynb"
   ]
  },
  {
   "cell_type": "code",
   "execution_count": 22,
   "metadata": {},
   "outputs": [],
   "source": [
    "# office31 데이터셋에 대한 클래스\n",
    "class Office31Dataset(Dataset):\n",
    "    @property\n",
    "    def base(self):\n",
    "        return super(Office31Dataset, self)"
   ]
  },
  {
   "cell_type": "code",
   "execution_count": 23,
   "metadata": {},
   "outputs": [],
   "source": [
    "def office31_init(self, resolution = [100, 100], input_shape = [-1]): # 해상도, 해당으로 바꿔줌\n",
    "    self.base.__init__('office31', 'dual_select')\n",
    "    path = 'C:/Users/TitusChoi/Desktop/Library/CodeLion/AI/datasets/office31'\n",
    "    domain_names = list_dir(path) # amazon, dslr, webcam\n",
    "    images = []\n",
    "    didxs, oidxs = [], [] # domain, office\n",
    "    \n",
    "    for dx, dname in enumerate(domain_names):\n",
    "        domainpath = os.path.join(path, dname, 'images')\n",
    "        object_names = list_dir(domainpath)\n",
    "        for ox, oname in enumerate(object_names):\n",
    "            objectpath = os.path.join(domainpath, oname)\n",
    "            filenames = list_dir(objectpath)\n",
    "            for fname in filenames:\n",
    "                if fname[-4:] != '.jpg':\n",
    "                    continue\n",
    "                imagepath = os.path.join(objectpath, fname)\n",
    "                pixels = load_image_pixels(imagepath, resolution, input_shape)\n",
    "                images.append(pixels)\n",
    "                didxs.append(dx)\n",
    "                oidxs.append(ox)\n",
    "    \n",
    "    self.image_shape = resolution + [3]\n",
    "    xs = np.asarray(images, np.float32)\n",
    "    ys0 = onehot(didxs, len(domain_names))\n",
    "    ys1 = onehot(oidxs, len(object_names))\n",
    "    ys = np.hstack([ys0, ys1])\n",
    "    \n",
    "    self.shuffle_data(xs, ys, 0.8)\n",
    "    self.target_names = [domain_names, object_names]\n",
    "    self.cnts = [len(domain_names)]\n",
    "\n",
    "Office31Dataset.__init__ = office31_init"
   ]
  },
  {
   "cell_type": "code",
   "execution_count": 24,
   "metadata": {},
   "outputs": [],
   "source": [
    "# 복합 출력을 위한 순전파 정의\n",
    "def office31_forward_postproc(self, output, y):\n",
    "    outputs, ys = np.hsplit(output, self.cnts), np.hsplit(y, self.cnts)\n",
    "    \n",
    "    loss0, aux0 = self.base.forward_postproc(outputs[0], ys[0], 'select')\n",
    "    loss1, aux1 = self.base.forward_postproc(outputs[1], ys[1], 'select')\n",
    "    \n",
    "    return loss0 + loss1, [aux0, aux1]\n",
    "\n",
    "Office31Dataset.forward_postproc = office31_forward_postproc"
   ]
  },
  {
   "cell_type": "code",
   "execution_count": 25,
   "metadata": {},
   "outputs": [],
   "source": [
    "# 복합 출력을 위한 역전파 정의\n",
    "def office31_backprop_postproc(self, G_loss, aux):\n",
    "    aux0, aux1 = aux\n",
    "    \n",
    "    # 역전파를 위한 G_OUTPUT 구하기 / G_OUTPUT0는 3개, G_OUTPUT1은 31개\n",
    "    G_output0 = self.base.backprop_postproc(G_loss, aux0, 'select')\n",
    "    G_output1 = self.base.backprop_postproc(G_loss, aux1, 'select')\n",
    "    \n",
    "    return np.hstack([G_output0, G_output1])\n",
    "\n",
    "Office31Dataset.backprop_postproc = office31_backprop_postproc"
   ]
  },
  {
   "cell_type": "code",
   "execution_count": 26,
   "metadata": {},
   "outputs": [],
   "source": [
    "# 정확도 분석 함수\n",
    "def office31_eval_accuracy(self, x, y, output):\n",
    "    outputs, ys = np.hsplit(output, self.cnts), np.hsplit(y, self.cnts)\n",
    "    \n",
    "    acc0 = self.base.eval_accuracy(x, ys[0], outputs[0], 'select')\n",
    "    acc1 = self.base.eval_accuracy(x, ys[1], outputs[1], 'select')\n",
    "    \n",
    "    return [acc0, acc1]\n",
    "\n",
    "Office31Dataset.eval_accuracy = office31_eval_accuracy"
   ]
  },
  {
   "cell_type": "code",
   "execution_count": 27,
   "metadata": {},
   "outputs": [],
   "source": [
    "# 훈련 출력 함수\n",
    "def office31_train_prt_result(self, epoch, costs, accs, acc, time1, time2):\n",
    "    acc_pair = np.mean(accs, axis = 0)\n",
    "    print('Epoch {}: cost={:5.3f}, accuracy={:5.3f}+{:5.3f}/{:5.3f}+{:5.3f} ({}/{} secs)'.\\\n",
    "    format(epoch, np.mean(costs), acc_pair[0], acc_pair[1], acc[0], acc[1], time1, time2))\n",
    "\n",
    "Office31Dataset.train_prt_result = office31_train_prt_result"
   ]
  },
  {
   "cell_type": "code",
   "execution_count": 28,
   "metadata": {},
   "outputs": [],
   "source": [
    "# 테스트 출력 함수\n",
    "def office31_test_prt_result(self, name, acc, time):\n",
    "    print('Model {} test report: accuracy = {:5.3f} + {:5.3f}, ({} secs)'.\\\n",
    "    format(name, acc[0], acc[1], time))\n",
    "\n",
    "Office31Dataset.test_prt_result = office31_test_prt_result"
   ]
  },
  {
   "cell_type": "code",
   "execution_count": 29,
   "metadata": {},
   "outputs": [],
   "source": [
    "# 측정 함수\n",
    "def office31_get_estimate(self, output):\n",
    "    outputs = np.hsplit(output, self.cnts)\n",
    "    \n",
    "    estimate0 = self.base.get_estimate(outputs[0], 'select')\n",
    "    estimate1 = self.base.get_estimate(outputs[1], 'select')\n",
    "    \n",
    "    return np.hstack([estimate0, estimate1])\n",
    "\n",
    "Office31Dataset.get_estimate = office31_get_estimate"
   ]
  },
  {
   "cell_type": "code",
   "execution_count": 30,
   "metadata": {},
   "outputs": [],
   "source": [
    "# 시각화 함수\n",
    "def office31_visualize(self, xs, estimates, answers):\n",
    "    draw_images_horz(xs, self.image_shape)\n",
    "    \n",
    "    ests, anss = np.hsplit(estimates, self.cnts), np.hsplit(answers, self.cnts)\n",
    "    \n",
    "    captions = ['도메인', '상품']\n",
    "    \n",
    "    for m in range(2):\n",
    "        print('[{} 추정결과]'.format(captions[m]))\n",
    "        show_select_results(ests[m], anss[m], self.target_names[m], 8)\n",
    "\n",
    "Office31Dataset.visualize = office31_visualize"
   ]
  }
 ],
 "metadata": {
  "kernelspec": {
   "display_name": "Python 3",
   "language": "python",
   "name": "python3"
  },
  "language_info": {
   "codemirror_mode": {
    "name": "ipython",
    "version": 3
   },
   "file_extension": ".py",
   "mimetype": "text/x-python",
   "name": "python",
   "nbconvert_exporter": "python",
   "pygments_lexer": "ipython3",
   "version": "3.7.3"
  }
 },
 "nbformat": 4,
 "nbformat_minor": 4
}
