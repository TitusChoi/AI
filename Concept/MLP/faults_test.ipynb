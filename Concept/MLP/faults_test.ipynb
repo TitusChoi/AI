{
 "cells": [
  {
   "cell_type": "markdown",
   "metadata": {},
   "source": [
    "# faults_test.ipynb\n",
    "Description   : Multiple layer perceptron to solve general problems<br>"
   ]
  },
  {
   "cell_type": "code",
   "execution_count": 4,
   "metadata": {
    "id": "0sBfK3_BVs72"
   },
   "outputs": [],
   "source": [
    "%run faults.ipynb"
   ]
  },
  {
   "cell_type": "code",
   "execution_count": 5,
   "metadata": {
    "id": "HU4zFBFMVs79",
    "pycharm": {
     "name": "#%%\n"
    }
   },
   "outputs": [
    {
     "name": "stdout",
     "output_type": "stream",
     "text": [
      "Epoch 1 : Train - loss = 16.229, accuracy = 0.295 / Test = 0.430\n",
      "Epoch 2 : Train - loss = 15.832, accuracy = 0.312 / Test = 0.305\n",
      "Epoch 3 : Train - loss = 15.673, accuracy = 0.319 / Test = 0.134\n",
      "Epoch 4 : Train - loss = 15.531, accuracy = 0.326 / Test = 0.299\n",
      "Epoch 5 : Train - loss = 15.832, accuracy = 0.312 / Test = 0.196\n",
      "Epoch 6 : Train - loss = 15.181, accuracy = 0.341 / Test = 0.442\n",
      "Epoch 7 : Train - loss = 15.372, accuracy = 0.332 / Test = 0.132\n",
      "Epoch 8 : Train - loss = 15.531, accuracy = 0.326 / Test = 0.179\n",
      "Epoch 9 : Train - loss = 15.086, accuracy = 0.345 / Test = 0.153\n",
      "Epoch 10 : Train - loss = 15.483, accuracy = 0.328 / Test = 0.267\n",
      "\n",
      " 최종 테스트 : Final accuracy = 0.267\n"
     ]
    }
   ],
   "source": [
    "multi_class_exec()"
   ]
  },
  {
   "cell_type": "code",
   "execution_count": null,
   "metadata": {},
   "outputs": [],
   "source": []
  }
 ],
 "metadata": {
  "colab": {
   "name": "신경망(다중선택분류).ipynb",
   "provenance": []
  },
  "kernelspec": {
   "display_name": "Python 3",
   "language": "python",
   "name": "python3"
  },
  "language_info": {
   "codemirror_mode": {
    "name": "ipython",
    "version": 3
   },
   "file_extension": ".py",
   "mimetype": "text/x-python",
   "name": "python",
   "nbconvert_exporter": "python",
   "pygments_lexer": "ipython3",
   "version": "3.7.3"
  }
 },
 "nbformat": 4,
 "nbformat_minor": 4
}
