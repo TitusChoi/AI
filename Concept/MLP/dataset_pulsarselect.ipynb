{
 "cells": [
  {
   "cell_type": "code",
   "execution_count": 1,
   "metadata": {},
   "outputs": [],
   "source": [
    "%run dataset.ipynb"
   ]
  },
  {
   "cell_type": "code",
   "execution_count": 2,
   "metadata": {},
   "outputs": [],
   "source": [
    "class PulsarSelectDataset(Dataset):\n",
    "    def __init__(self):\n",
    "        super(PulsarSelectDataset, self).__init__('pulsarselect', 'select')\n",
    "    \n",
    "        rows, _ = load_csv('C:/Users/TitusChoi/Desktop/Library/CodeLion/AI/datasets/pulsar_stars.csv')\n",
    "\n",
    "        data = np.asarray(rows, dtype='float32')\n",
    "        self.shuffle_data(data[:,:-1], onehot(data[:,-1], 2), 0.8)\n",
    "        self.target_names = ['별', '펄서']\n",
    "        \n",
    "    def visualize(self, xs, estimates, answers):\n",
    "        show_select_results(estimates, answers, self.target_names)"
   ]
  },
  {
   "cell_type": "code",
   "execution_count": null,
   "metadata": {},
   "outputs": [],
   "source": []
  }
 ],
 "metadata": {
  "kernelspec": {
   "display_name": "Python 3",
   "language": "python",
   "name": "python3"
  },
  "language_info": {
   "codemirror_mode": {
    "name": "ipython",
    "version": 3
   },
   "file_extension": ".py",
   "mimetype": "text/x-python",
   "name": "python",
   "nbconvert_exporter": "python",
   "pygments_lexer": "ipython3",
   "version": "3.7.3"
  }
 },
 "nbformat": 4,
 "nbformat_minor": 4
}
