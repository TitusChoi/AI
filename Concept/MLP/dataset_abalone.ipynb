{
 "cells": [
  {
   "cell_type": "markdown",
   "metadata": {},
   "source": [
    "# dataset_abalone.ipynb\n",
    "Description   : Multiple layer perceptron to solve general problems<br>\n",
    "전복 데이터 처리를 위한 "
   ]
  },
  {
   "cell_type": "code",
   "execution_count": 1,
   "metadata": {},
   "outputs": [],
   "source": [
    "%run dataset.ipynb"
   ]
  },
  {
   "cell_type": "code",
   "execution_count": 2,
   "metadata": {},
   "outputs": [],
   "source": [
    "# 전복 데이터셋에 대한 클래스\n",
    "class AbaloneDataset(Dataset):\n",
    "    def __init__(self):\n",
    "        super(AbaloneDataset, self).__init__('abalone', 'regression')\n",
    "    \n",
    "        rows, _ = load_csv('C:/Users/TitusChoi/Desktop/Library/CodeLion/AI/datasets/abalone.csv')\n",
    "\n",
    "        xs = np.zeros([len(rows), 10])\n",
    "        ys = np.zeros([len(rows), 1])\n",
    "\n",
    "        for n, row in enumerate(rows):\n",
    "            if row[0] == 'I': xs[n, 0] = 1\n",
    "            if row[0] == 'M': xs[n, 1] = 1\n",
    "            if row[0] == 'F': xs[n, 2] = 1\n",
    "            xs[n, 3:] = row[1:-1]\n",
    "            ys[n, :] = row[-1:]\n",
    "        \n",
    "        self.shuffle_data(xs, ys, 0.8)\n",
    "\n",
    "    def visualize(self, xs, estimates, answers):\n",
    "        for n in range(len(xs)):\n",
    "            x, est, ans = xs[n], estimates[n], answers[n]\n",
    "            xstr = vector_to_str(x, '%4.2f')\n",
    "            print('{} => 추정 {:4.1f} : 정답 {:4.1f}'.\n",
    "                  format(xstr, est[0], ans[0]))"
   ]
  },
  {
   "cell_type": "code",
   "execution_count": null,
   "metadata": {},
   "outputs": [],
   "source": []
  }
 ],
 "metadata": {
  "kernelspec": {
   "display_name": "Python 3",
   "language": "python",
   "name": "python3"
  },
  "language_info": {
   "codemirror_mode": {
    "name": "ipython",
    "version": 3
   },
   "file_extension": ".py",
   "mimetype": "text/x-python",
   "name": "python",
   "nbconvert_exporter": "python",
   "pygments_lexer": "ipython3",
   "version": "3.7.3"
  }
 },
 "nbformat": 4,
 "nbformat_minor": 4
}
