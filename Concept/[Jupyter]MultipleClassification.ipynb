{
 "metadata": {
  "language_info": {
   "codemirror_mode": {
    "name": "ipython",
    "version": 3
   },
   "file_extension": ".py",
   "mimetype": "text/x-python",
   "name": "python",
   "nbconvert_exporter": "python",
   "pygments_lexer": "ipython3",
   "version": "3.7.3-final"
  },
  "orig_nbformat": 2,
  "kernelspec": {
   "name": "python3",
   "display_name": "Python 3.7.3 64-bit",
   "metadata": {
    "interpreter": {
     "hash": "4bc17172f99772f1e15e410c08760405b44eb0e6651d4b0c516469737cd5aade"
    }
   }
  }
 },
 "nbformat": 4,
 "nbformat_minor": 2,
 "cells": [
  {
   "source": [
    "# [Jupyter]MultipleClassification.ipynb\n",
    "Description   : Single-layer neural network for multiple classification"
   ],
   "cell_type": "markdown",
   "metadata": {}
  },
  {
   "cell_type": "code",
   "execution_count": 3,
   "metadata": {},
   "outputs": [
    {
     "output_type": "execute_result",
     "data": {
      "text/plain": [
       "X_Minimum                1941\n",
       "X_Maximum                1941\n",
       "Y_Minimum                1941\n",
       "Y_Maximum                1941\n",
       "Pixels_Areas             1941\n",
       "X_Perimeter              1941\n",
       "Y_Perimeter              1941\n",
       "Sum_of_Luminosity        1941\n",
       "Minimum_of_Luminosity    1941\n",
       "Maximum_of_Luminosity    1941\n",
       "Length_of_Conveyer       1941\n",
       "TypeOfSteel_A300         1941\n",
       "TypeOfSteel_A400         1941\n",
       "Steel_Plate_Thickness    1941\n",
       "Edges_Index              1941\n",
       "Empty_Index              1941\n",
       "Square_Index             1941\n",
       "Outside_X_Index          1941\n",
       "Edges_X_Index            1941\n",
       "Edges_Y_Index            1941\n",
       "Outside_Global_Index     1941\n",
       "LogOfAreas               1941\n",
       "Log_X_Index              1941\n",
       "Log_Y_Index              1941\n",
       "Orientation_Index        1941\n",
       "Luminosity_Index         1941\n",
       "SigmoidOfAreas           1941\n",
       "Pastry                   1941\n",
       "Z_Scratch                1941\n",
       "K_Scatch                 1941\n",
       "Stains                   1941\n",
       "Dirtiness                1941\n",
       "Bumps                    1941\n",
       "Other_Faults             1941\n",
       "dtype: int64"
      ]
     },
     "metadata": {},
     "execution_count": 3
    }
   ],
   "source": [
    "import pandas as pd\n",
    "import os\n",
    "\n",
    "# 경로 초기화\n",
    "os.chdir(r\"C:\\Users\\TitusChoi\\Desktop\\Library\\CodeLion\\AI\")\n",
    "\n",
    "faults = pd.read_csv('./datasets/faults.csv')\n",
    "faults.describe()\n",
    "faults.count()"
   ]
  },
  {
   "cell_type": "code",
   "execution_count": null,
   "metadata": {},
   "outputs": [],
   "source": []
  }
 ]
}