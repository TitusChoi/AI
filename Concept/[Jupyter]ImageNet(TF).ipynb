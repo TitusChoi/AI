{
 "metadata": {
  "language_info": {
   "codemirror_mode": {
    "name": "ipython",
    "version": 3
   },
   "file_extension": ".py",
   "mimetype": "text/x-python",
   "name": "python",
   "nbconvert_exporter": "python",
   "pygments_lexer": "ipython3",
   "version": "3.7.3-final"
  },
  "orig_nbformat": 2,
  "kernelspec": {
   "name": "python3",
   "display_name": "Python 3.7.3 64-bit",
   "metadata": {
    "interpreter": {
     "hash": "4bc17172f99772f1e15e410c08760405b44eb0e6651d4b0c516469737cd5aade"
    }
   }
  }
 },
 "nbformat": 4,
 "nbformat_minor": 2,
 "cells": [
  {
   "source": [
    "# [Jupyter]ImageNet(TF).ipynb\n",
    "Description   : pre-trained imagenet model using tensorflow_hub"
   ],
   "cell_type": "markdown",
   "metadata": {}
  },
  {
   "cell_type": "code",
   "execution_count": 2,
   "metadata": {},
   "outputs": [
    {
     "output_type": "stream",
     "name": "stdout",
     "text": [
      "Model: \"sequential\"\n_________________________________________________________________\nLayer (type)                 Output Shape              Param #   \n=================================================================\nkeras_layer (KerasLayer)     (None, 1001)              3540265   \n=================================================================\nTotal params: 3,540,265\nTrainable params: 0\nNon-trainable params: 3,540,265\n_________________________________________________________________\n"
     ]
    }
   ],
   "source": [
    "import tensorflow as tf\n",
    "import tensorflow_hub as hub\n",
    "\n",
    "mobile_net_url = \"https://tfhub.dev/google/tf2-preview/mobilenet_v2/classification/4\"\n",
    "model = tf.keras.Sequential([\n",
    "    hub.KerasLayer(handle=mobile_net_url, input_shape = (224, 224, 3), trainable=False)\n",
    "])\n",
    "\n",
    "model.summary()"
   ]
  },
  {
   "cell_type": "code",
   "execution_count": 3,
   "metadata": {},
   "outputs": [],
   "source": [
    "from tensorflow.keras.applications import MobileNetV2 # v2를 쓰는 이유가 따로 있음\n",
    "mobilev2 = MobileNetV2()\n",
    "# tf.keras.utils.plot_model(mobilev2)"
   ]
  },
  {
   "cell_type": "code",
   "execution_count": 4,
   "metadata": {},
   "outputs": [],
   "source": [
    "import os\n",
    "import pathlib\n",
    "\n",
    "# 데이터 경로 생성하고 datasets 받아오기\n",
    "os.chdir(r\"C:\\Users\\TitusChoi\\Desktop\\Library\\CodeLion\\AI\")\n",
    "content_data_url = './' # 현재 폴더\n",
    "data_root_orig = tf.keras.utils.get_file('imagenetV2', 'https://s3-us-west-2.amazonaws.com/imagenetv2public/imagenetv2-top-images.tar.gz', cache_dir = content_data_url, extract=True)"
   ]
  },
  {
   "cell_type": "code",
   "execution_count": 5,
   "metadata": {},
   "outputs": [
    {
     "output_type": "stream",
     "name": "stdout",
     "text": [
      "datasets\\imagenetv2-top-images-format-val\n"
     ]
    }
   ],
   "source": [
    "# 경로 확인\n",
    "data_root = pathlib.Path(content_data_url + '/datasets/imagenetv2-top-images-format-val')\n",
    "print(data_root)"
   ]
  },
  {
   "cell_type": "code",
   "execution_count": 6,
   "metadata": {},
   "outputs": [
    {
     "output_type": "stream",
     "name": "stdout",
     "text": [
      "datasets\\imagenetv2-top-images-format-val\\0\ndatasets\\imagenetv2-top-images-format-val\\1\ndatasets\\imagenetv2-top-images-format-val\\10\ndatasets\\imagenetv2-top-images-format-val\\100\ndatasets\\imagenetv2-top-images-format-val\\101\ndatasets\\imagenetv2-top-images-format-val\\102\ndatasets\\imagenetv2-top-images-format-val\\103\ndatasets\\imagenetv2-top-images-format-val\\104\ndatasets\\imagenetv2-top-images-format-val\\105\ndatasets\\imagenetv2-top-images-format-val\\106\n"
     ]
    }
   ],
   "source": [
    "# indexing\n",
    "for idx, item in enumerate(data_root.iterdir()):\n",
    "    print(item)\n",
    "    if idx == 9:\n",
    "        break"
   ]
  },
  {
   "cell_type": "code",
   "execution_count": 7,
   "metadata": {},
   "outputs": [
    {
     "output_type": "stream",
     "name": "stdout",
     "text": [
      "1001\n",
      "['background', 'tench', 'goldfish', 'great white shark', 'tiger shark', 'hammerhead', 'electric ray', 'stingray', 'cock', 'hen']\n",
      "['buckeye', 'coral fungus', 'agaric', 'gyromitra', 'stinkhorn', 'earthstar', 'hen-of-the-woods', 'bolete', 'ear', 'toilet tissue']\n",
      "['background', 'tench', 'goldfish', 'greatwhiteshark', 'tigershark', 'hammerhead', 'electricray', 'stingray', 'cock', 'hen']\n",
      "['buckeye', 'coralfungus', 'agaric', 'gyromitra', 'stinkhorn', 'earthstar', 'henofthewoods', 'bolete', 'ear', 'toilettissue']\n"
     ]
    }
   ],
   "source": [
    "# 라벨 정보 불러오기\n",
    "label_file = tf.keras.utils.get_file(fname= 'label', origin = 'https://storage.googleapis.com/download.tensorflow.org/data/ImageNetLabels.txt')\n",
    "\n",
    "# 빈 객체 만들기\n",
    "label_text = None\n",
    "\n",
    "with open(label_file, 'r') as f:\n",
    "    #[:-1] 처음부터 끝까지 읽기, 줄바꿈 기준으로 나눔\n",
    "    label_text = f.read().split('\\n')[:-1]\n",
    "\n",
    "print(len(label_text))\n",
    "print(label_text[:10])\n",
    "print(label_text[-10:])\n",
    "\n",
    "# nltk 패키지에서 wordnet 다운받기\n",
    "import nltk\n",
    "# nltk.download('wordnet') # 이미 다운 받은 데이터는 재다운로드 필요 없음\n",
    "from nltk.corpus import wordnet\n",
    "\n",
    "# wordnet과 인터넷에 올라온 label 텍스트는 확실히 다르다. -> 텍스트 전처리 과정이라고 보면 될 것 같다.\n",
    "# -, _, 공백을 없애는 기법\n",
    "label_text = [c.lower().replace('-', '').replace('_','').replace(' ','') for c in label_text]\n",
    "print(label_text[:10])\n",
    "print(label_text[-10:])"
   ]
  },
  {
   "cell_type": "code",
   "execution_count": 34,
   "metadata": {},
   "outputs": [
    {
     "output_type": "stream",
     "name": "stdout",
     "text": [
      "image_count : 10000\n"
     ]
    },
    {
     "output_type": "error",
     "ename": "IndexError",
     "evalue": "list index out of range",
     "traceback": [
      "\u001b[1;31m---------------------------------------------------------------------------\u001b[0m",
      "\u001b[1;31mIndexError\u001b[0m                                Traceback (most recent call last)",
      "\u001b[1;32m<ipython-input-34-e0725d3c6302>\u001b[0m in \u001b[0;36m<module>\u001b[1;34m\u001b[0m\n\u001b[0;32m     21\u001b[0m \u001b[1;33m\u001b[0m\u001b[0m\n\u001b[0;32m     22\u001b[0m     \u001b[1;31m# 첫번째부터 1000번째까지 라벨과 텍스트 동일하게 설정\u001b[0m\u001b[1;33m\u001b[0m\u001b[1;33m\u001b[0m\u001b[1;33m\u001b[0m\u001b[0m\n\u001b[1;32m---> 23\u001b[1;33m     \u001b[0midx\u001b[0m \u001b[1;33m=\u001b[0m \u001b[0mint\u001b[0m\u001b[1;33m(\u001b[0m\u001b[0mimage_path\u001b[0m\u001b[1;33m.\u001b[0m\u001b[0msplit\u001b[0m\u001b[1;33m(\u001b[0m\u001b[1;34m'/'\u001b[0m\u001b[1;33m)\u001b[0m\u001b[1;33m[\u001b[0m\u001b[1;33m-\u001b[0m\u001b[1;36m2\u001b[0m\u001b[1;33m]\u001b[0m\u001b[1;33m)\u001b[0m \u001b[1;33m+\u001b[0m \u001b[1;36m1\u001b[0m\u001b[1;33m\u001b[0m\u001b[1;33m\u001b[0m\u001b[0m\n\u001b[0m\u001b[0;32m     24\u001b[0m \u001b[1;33m\u001b[0m\u001b[0m\n\u001b[0;32m     25\u001b[0m     \u001b[0mplt\u001b[0m\u001b[1;33m.\u001b[0m\u001b[0mtitle\u001b[0m\u001b[1;33m(\u001b[0m\u001b[0mstr\u001b[0m\u001b[1;33m(\u001b[0m\u001b[0midx\u001b[0m\u001b[1;33m)\u001b[0m \u001b[1;33m+\u001b[0m \u001b[1;34m', '\u001b[0m \u001b[1;33m+\u001b[0m \u001b[0mlabel_text\u001b[0m\u001b[1;33m[\u001b[0m\u001b[0midx\u001b[0m\u001b[1;33m]\u001b[0m\u001b[1;33m)\u001b[0m \u001b[1;31m# 상단 이름을 출력하는 부분\u001b[0m\u001b[1;33m\u001b[0m\u001b[1;33m\u001b[0m\u001b[0m\n",
      "\u001b[1;31mIndexError\u001b[0m: list index out of range"
     ]
    }
   ],
   "source": [
    "# 이미지 확인 작업\n",
    "import PIL.Image as Image\n",
    "import matplotlib.pyplot as plt\n",
    "import random\n",
    "\n",
    "all_image_paths = list(data_root.glob('*/*')) # 대규모 경로 가져오기\n",
    "all_image_paths = [str(path) for path in all_image_paths]\n",
    "\n",
    "random.shuffle(all_image_paths)\n",
    "\n",
    "image_count = len(all_image_paths)\n",
    "print('image_count :', image_count)\n",
    "\n",
    "plt.figure(figsize = (12, 12))\n",
    "for c in range(9):\n",
    "    # 이미지 랜덤 추출\n",
    "    image_path = random.choice(all_image_paths)\n",
    "    # 차례로 출력\n",
    "    plt.subplot(3, 3, c + 1)\n",
    "    plt.imshow(plt.imread(image_path))\n",
    "\n",
    "    # 첫번째부터 1000번째까지 라벨과 텍스트 동일하게 설정[~Processing, 인덱스 문제 해결해야 함]\n",
    "    idx = int(image_path.split('/')[-2]) + 1\n",
    "\n",
    "    plt.title(str(idx) + '. ' + label_text[idx]) # 상단 이름을 출력하는 부분\n",
    "    plt.axis('off')\n",
    "plt.show()"
   ]
  }
 ]
}