{
 "metadata": {
  "language_info": {
   "codemirror_mode": {
    "name": "ipython",
    "version": 3
   },
   "file_extension": ".py",
   "mimetype": "text/x-python",
   "name": "python",
   "nbconvert_exporter": "python",
   "pygments_lexer": "ipython3",
   "version": "3.7.3-final"
  },
  "orig_nbformat": 2,
  "kernelspec": {
   "name": "python3",
   "display_name": "Python 3.7.3 64-bit",
   "metadata": {
    "interpreter": {
     "hash": "4bc17172f99772f1e15e410c08760405b44eb0e6651d4b0c516469737cd5aade"
    }
   }
  }
 },
 "nbformat": 4,
 "nbformat_minor": 2,
 "cells": [
  {
   "source": [
    "# [Jupyter]PretrainedModel(TF).ipynb\n",
    "Description   : pre-trained model using tensorflow 2"
   ],
   "cell_type": "markdown",
   "metadata": {}
  },
  {
   "cell_type": "code",
   "execution_count": 13,
   "metadata": {},
   "outputs": [
    {
     "output_type": "stream",
     "name": "stdout",
     "text": [
      "Model: \"sequential_3\"\n_________________________________________________________________\nLayer (type)                 Output Shape              Param #   \n=================================================================\nkeras_layer_3 (KerasLayer)   (None, 1001)              3540265   \n=================================================================\nTotal params: 3,540,265\nTrainable params: 0\nNon-trainable params: 3,540,265\n_________________________________________________________________\n"
     ]
    }
   ],
   "source": [
    "import tensorflow as tf\n",
    "import tensorflow_hub as hub\n",
    "\n",
    "mobile_net_url = \"https://tfhub.dev/google/tf2-preview/mobilenet_v2/classification/4\"\n",
    "model = tf.keras.Sequential([\n",
    "    hub.KerasLayer(handle=mobile_net_url, input_shape = (224, 224, 3), trainable=False)\n",
    "])\n",
    "\n",
    "model.summary()"
   ]
  },
  {
   "cell_type": "code",
   "execution_count": 16,
   "metadata": {},
   "outputs": [],
   "source": [
    "from tensorflow.keras.applications import MobileNetV2 # v2를 쓰는 이유가 따로 있음\n",
    "mobilev2 = MobileNetV2()\n",
    "# tf.keras.utils.plot_model(mobilev2)"
   ]
  },
  {
   "cell_type": "code",
   "execution_count": 19,
   "metadata": {},
   "outputs": [],
   "source": [
    "import PIL as Image # PIL 이미지 가져오는 기법\r\n"
   ]
  },
  {
   "cell_type": "code",
   "execution_count": 24,
   "metadata": {},
   "outputs": [],
   "source": [
    "label_file = tf.keras.utils.get_file(fname='label', origin='https://storage.googleapis.com/download.tensorflow.org/data/ImageNetLabels.txt')"
   ]
  },
  {
   "cell_type": "code",
   "execution_count": null,
   "metadata": {},
   "outputs": [],
   "source": []
  }
 ]
}