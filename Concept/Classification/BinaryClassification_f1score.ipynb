{
 "cells": [
  {
   "cell_type": "markdown",
   "metadata": {},
   "source": [
    "# BinaryClassification_f1score.ipynb\n",
    "Description   : Single-layer neural network to find f1 score for binary classification"
   ]
  },
  {
   "cell_type": "markdown",
   "metadata": {},
   "source": [
    "## 이진 분류를 위한 신경망 설계"
   ]
  },
  {
   "cell_type": "code",
   "execution_count": 21,
   "metadata": {},
   "outputs": [],
   "source": [
    "import numpy as np\n",
    "import csv\n",
    "import os\n",
    "\n",
    "np.random.seed(1024)\n",
    "# 경로 초기화\n",
    "os.chdir(r\"C:\\Users\\TitusChoi\\Desktop\\Library\\CodeLion\\AI\")"
   ]
  },
  {
   "cell_type": "code",
   "execution_count": 22,
   "metadata": {},
   "outputs": [],
   "source": [
    "# Hyperparameter\n",
    "RND_MEAN = 0\n",
    "RND_STD = 0.003\n",
    "LEARNING_RATE = 0.001"
   ]
  },
  {
   "cell_type": "code",
   "execution_count": 23,
   "metadata": {},
   "outputs": [],
   "source": [
    "# Main function\n",
    "def binary_classification_exec(epochs = 10, mb_size = 10, report = 1, tr = 0.8, adjust_ratio = False): # 학습 횟수, 미니 배치 사이즈, 학습 리포트, 훈련 비율(데이터 전부 훈련시키지 않고 그 중 훈련 비율만큼 훈련, 나머지는 시험 비율이 된다.), Pulsar 데이터 증폭 T/F\n",
    "    binary_load_dataset(adjust_ratio) # 데이터 셋 여는 함수\n",
    "    init_model() # 가중치와 편향 초기화 함수\n",
    "    train_and_test(epochs, mb_size, report, tr) # 학습 및 신경망 성능 테스트 함수"
   ]
  },
  {
   "cell_type": "code",
   "execution_count": 24,
   "metadata": {},
   "outputs": [],
   "source": [
    "# Data load\n",
    "def binary_load_dataset(adjust_ratio):\n",
    "    # pulsars, stars의 adjust_ratio\n",
    "    pulsars, stars = [], []\n",
    "\n",
    "    # Loading datasets\n",
    "    with open('./datasets/pulsar_stars.csv') as csvfile:\n",
    "        csvreader = csv.reader(csvfile)\n",
    "        next(csvreader, None) # 첫 번째 index 건너뛰고 none으로 반환\n",
    "        rows = []\n",
    "        for row in csvreader:\n",
    "            if row[8] == '1' : pulsars.append(row)\n",
    "            else:\n",
    "                stars.append(row)\n",
    "\n",
    "    # Global Variable : 함수 구축 시 주요하게 사용되는 변수를 확인하기 위한 장점때문에 사용\n",
    "    global data, input_cnt, output_cnt\n",
    "    input_cnt, output_cnt = 8, 1 # 독립변수의 크기와 종속변수의 크기\n",
    "    star_cnt, pulsar_cnt = len(stars), len(pulsars)\n",
    "    \n",
    "    if adjust_ratio: # pulsar 데이터 증폭 flow\n",
    "        data = np.zeros([2 * star_cnt, 9])\n",
    "        data[0:star_cnt,:] = np.asarray(stars, dtype = 'float32')\n",
    "\n",
    "        for n in range(star_cnt):\n",
    "            data[star_cnt + n] = np.asarray(pulsars[n % pulsar_cnt], dtype = 'float32')\n",
    "\n",
    "    else:\n",
    "        data = np.zeros([star_cnt + pulsar_cnt, 9])\n",
    "        data[0:star_cnt,:] = np.asarray(stars, dtype = 'float32')\n",
    "        data[star_cnt:,:] = np.asarray(pulsars, dtype = 'float32')"
   ]
  },
  {
   "cell_type": "code",
   "execution_count": 25,
   "metadata": {},
   "outputs": [],
   "source": [
    "# Parameter Initialization\n",
    "def init_model():\n",
    "    global weight, bias, input_cnt, output_cnt\n",
    "    weight = np.random.normal(RND_MEAN, RND_STD, [input_cnt, output_cnt])\n",
    "    bias = np.random.normal(RND_MEAN, RND_STD, [output_cnt])"
   ]
  },
  {
   "cell_type": "code",
   "execution_count": 26,
   "metadata": {},
   "outputs": [],
   "source": [
    "# Train and Test\n",
    "def train_and_test(epochs, mb_size, report, tr):\n",
    "    steps = arrange_data(mb_size, tr)           # 반환하는 값은 미니배치가 몇 덩어리(스텝)으로 쪼개지는지?\n",
    "    test_x, test_y = get_test_data()               # 테스트 데이터에 대한 독립변수와 종속변수를 얻어내는 함수\n",
    "\n",
    "    # epochs는 외부 for문으로 돌림\n",
    "    # 미니배치는 내부 for문으로 돌리기 때문에 시간복잡도 증가\n",
    "    for epoch in range(epochs):\n",
    "        losses, accuracies = [], [] # epochs당 손실함수와 정확도 for 평균\n",
    "        for n in range(steps):\n",
    "            train_x, train_y = get_train_data(mb_size, n) # 미니배치 사이즈와 스텝의 수만큼 개별값을 받아 학습데이터의 독립, 종속변수 반환\n",
    "            loss, _ = run_train(train_x, train_y)\n",
    "            losses.append(loss)\n",
    "            # accuracies.append(accuracy) 여기서는 accuracy 사용하지 않는다!\n",
    "        \n",
    "        # 몇 번의 간격에 맞춰서 출력할 것인지 report에 따라서 다름\n",
    "        if report > 0 and (epoch + 1) % report == 0:\n",
    "            result = run_test(test_x, test_y)\n",
    "            print('Epoch {} : loss = {:5.3f}, accuracy = {:5.3f}, precision={:5.3f}, recall={:5.3f}, f1={:5.3f}'\\\n",
    "                .format(epoch + 1, np.mean(losses), result[0], result[1], result[2], result[3]))\n",
    "    \n",
    "    final_result = run_test(test_x, test_y)\n",
    "    print('\\nFinal Test : accuracy = {:5.3f}, precision={:5.3f}, recall={:5.3f}, f1={:5.3f}'\\\n",
    "                .format(final_result[0], final_result[1], final_result[2], final_result[3]))"
   ]
  },
  {
   "cell_type": "code",
   "execution_count": 27,
   "metadata": {},
   "outputs": [],
   "source": [
    "# Arrange data\n",
    "def arrange_data(mb_size, tr):\n",
    "    global data, shuffle_map, test_begin_index\n",
    "    shuffle_map = np.arange(data.shape[0])\n",
    "    np.random.shuffle(shuffle_map)\n",
    "    # 미니 배치 스텝 수를 구하는 과정\n",
    "    steps = int(data.shape[0] * tr) // mb_size\n",
    "\n",
    "    # Search boundary line\n",
    "    test_begin_index = steps * mb_size\n",
    "    return steps"
   ]
  },
  {
   "cell_type": "code",
   "execution_count": 28,
   "metadata": {},
   "outputs": [],
   "source": [
    "# Test data\n",
    "def get_test_data():\n",
    "    global data, shuffle_map, test_begin_index, output_cnt\n",
    "    test_data = data[shuffle_map[test_begin_index:]]\n",
    "    return test_data[:, :-output_cnt], test_data[:, -output_cnt:]"
   ]
  },
  {
   "cell_type": "code",
   "execution_count": 29,
   "metadata": {},
   "outputs": [],
   "source": [
    "# Getting training data\n",
    "def get_train_data(mb_size, nth):\n",
    "    global data, shuffle_map, test_begin_index, output_cnt\n",
    "    if nth == 0:\n",
    "        np.random.shuffle(shuffle_map[:test_begin_index]) # 무작위로 특정 인덱스까지 무작위로 섞기\n",
    "    train_data = data[shuffle_map[mb_size * nth : mb_size * (nth + 1)]]\n",
    "    return train_data[:, :-output_cnt], train_data[:, -output_cnt:]"
   ]
  },
  {
   "cell_type": "code",
   "execution_count": 30,
   "metadata": {},
   "outputs": [],
   "source": [
    "# Training data\n",
    "def run_train(x, y):\n",
    "    output, aux_nn = forward_neuralnet(x)\n",
    "    loss, aux_pp = forward_postproc(output, y)\n",
    "    # 학습 1단계\n",
    "    accuracy = eval_accuracy(output, y)\n",
    "\n",
    "    # 학습 2단계\n",
    "    G_loss = 1.0\n",
    "    G_output = backprop_postproc(G_loss, aux_pp)\n",
    "    backprop_neuralnet(G_output, aux_nn)\n",
    "\n",
    "    return loss, accuracy"
   ]
  },
  {
   "cell_type": "code",
   "execution_count": 31,
   "metadata": {},
   "outputs": [],
   "source": [
    "# running test\n",
    "def run_test(x, y):\n",
    "    output, _ = forward_neuralnet(x)\n",
    "    accuracy = eval_accuracy(output, y)\n",
    "    return accuracy"
   ]
  },
  {
   "cell_type": "code",
   "execution_count": 32,
   "metadata": {},
   "outputs": [],
   "source": [
    "# forward neural network\n",
    "def forward_neuralnet(x):\n",
    "    global weight, bias\n",
    "    output = np.matmul(x, weight) + bias\n",
    "    # 두 번째 반환 값인 x는 aux_nn으로 반환처리, 역전파 수행시 활용하기 위해 정의\n",
    "    return output, x"
   ]
  },
  {
   "cell_type": "code",
   "execution_count": 33,
   "metadata": {},
   "outputs": [],
   "source": [
    "# backpropagation Neural Network : 신경망 역전파 연산 -> 가중치, 편향 값 변화\n",
    "def backprop_neuralnet(G_output, x):\n",
    "    global weight, bias\n",
    "    g_output_w = x.transpose() # 행렬 곱을 위한 transpose\n",
    "\n",
    "    G_w = np.matmul(g_output_w, G_output)\n",
    "    G_b = np.sum(G_output, axis = 0) # axis = 0, x축 row 연산\n",
    "\n",
    "    weight -= LEARNING_RATE * G_w\n",
    "    bias -= LEARNING_RATE * G_b"
   ]
  },
  {
   "cell_type": "code",
   "execution_count": 34,
   "metadata": {},
   "outputs": [],
   "source": [
    "# forward propagation postprocessing\n",
    "def forward_postproc(output, y):\n",
    "    CEE = sigmoid_cross_entropy_with_logits(y, output)\n",
    "    loss = np.mean(CEE)\n",
    "\n",
    "    return loss, [y, output, CEE]"
   ]
  },
  {
   "cell_type": "code",
   "execution_count": 35,
   "metadata": {},
   "outputs": [],
   "source": [
    "# Activation Functions\n",
    "\n",
    "# 1. sigmoid function to protect overflow\n",
    "def sigmoid(x):\n",
    "    return np.exp(-relu(-x)) / (1.0 + np.exp(-np.abs(x)))\n",
    "\n",
    "# 2. ReLU function\n",
    "def relu(x):\n",
    "    return np.maximum(x, 0)\n",
    "\n",
    "# 3. sigmoid function to use cross entropy with logits\n",
    "def sigmoid_cross_entropy_with_logits(z, x):\n",
    "    return relu(x) - x * z + np.log(1 + np.exp(-np.abs(x))) # 여기서 z 값은 신경망에서 실제 값 y를 의마한다.\n",
    "\n",
    "\n",
    "# 4. sigmoid derivative function to use cross entropy with logits -> 신경망 구축에서는 연산 과정 자체를 이미 하나로 통합해서 진행했기 때문에 사용하지 않음\n",
    "def sigmoid_cross_entropy_with_logits_derv(z, x):\n",
    "    return -z + sigmoid(x)"
   ]
  },
  {
   "cell_type": "code",
   "execution_count": 36,
   "metadata": {},
   "outputs": [],
   "source": [
    "# Backpropagation postprocessing : 손실함수에 대한 과정을 역전파 하는 단계\n",
    "def backprop_postproc(G_loss, aux):\n",
    "    y, output, CEE = aux\n",
    "    G_loss = 1.0\n",
    "\n",
    "    g_loss_entropy = 1.0 / np.prod(CEE.shape)\n",
    "    g_entropy_output = sigmoid_cross_entropy_with_logits_derv(y, output)\n",
    "\n",
    "    G_entropy = g_loss_entropy * G_loss\n",
    "    G_output = g_entropy_output * G_entropy\n",
    "\n",
    "    return G_output"
   ]
  },
  {
   "cell_type": "markdown",
   "metadata": {},
   "source": [
    "![python image2](https://datascienceplus.com/wp-content/uploads/2018/01/ClassificationMatrix.png)"
   ]
  },
  {
   "cell_type": "code",
   "execution_count": 41,
   "metadata": {},
   "outputs": [],
   "source": [
    "def eval_accuracy(output, y):\n",
    "    est_yes = np.greater(output, 0)\n",
    "    ans_yes = np.greater(y, 0.5)\n",
    "\n",
    "    # not logical 연산\n",
    "    est_no = np.logical_not(est_yes)\n",
    "    ans_no = np.logical_not(ans_yes)\n",
    "\n",
    "    tp = np.sum(np.logical_and(est_yes, ans_yes))\n",
    "    fp = np.sum(np.logical_and(est_yes, ans_no))\n",
    "    tn = np.sum(np.logical_and(est_no, ans_yes))\n",
    "    fn = np.sum(np.logical_and(est_no, ans_no))\n",
    "\n",
    "    accuracy    = safe_div(tp + tn, tp + fp + fn + tn)\n",
    "    precision   = safe_div(tp, tp + fp)\n",
    "    recall      = safe_div(tp, tp + fn)\n",
    "\n",
    "    # f1 score 결과\n",
    "    f1 = 2 * safe_div(recall * precision, recall + precision)\n",
    "    return [accuracy, precision, recall, f1]"
   ]
  },
  {
   "cell_type": "code",
   "execution_count": 38,
   "metadata": {},
   "outputs": [],
   "source": [
    "# division 함수 정의\n",
    "def safe_div(p, q):\n",
    "    p, q = float(p), float(q)\n",
    "    if np.abs(q) < 1.0e-20:\n",
    "        return np.sign(p)\n",
    "    return p / q"
   ]
  },
  {
   "cell_type": "code",
   "execution_count": 44,
   "metadata": {},
   "outputs": [
    {
     "name": "stdout",
     "output_type": "stream",
     "text": [
      "증폭 미적용\n",
      "Epoch 100 : loss = 0.122, accuracy = 0.094, precision=0.892, recall=0.082, f1=0.151\n",
      "Epoch 200 : loss = 0.130, accuracy = 0.094, precision=0.973, recall=0.073, f1=0.136\n",
      "Epoch 300 : loss = 0.122, accuracy = 0.094, precision=0.881, recall=0.085, f1=0.154\n",
      "Epoch 400 : loss = 0.116, accuracy = 0.094, precision=0.878, recall=0.084, f1=0.153\n",
      "Epoch 500 : loss = 0.119, accuracy = 0.094, precision=0.943, recall=0.080, f1=0.147\n",
      "Epoch 600 : loss = 0.113, accuracy = 0.094, precision=0.958, recall=0.078, f1=0.145\n",
      "Epoch 700 : loss = 0.114, accuracy = 0.094, precision=0.947, recall=0.081, f1=0.149\n",
      "Epoch 800 : loss = 0.115, accuracy = 0.094, precision=0.885, recall=0.081, f1=0.149\n",
      "Epoch 900 : loss = 0.113, accuracy = 0.094, precision=0.970, recall=0.074, f1=0.138\n",
      "Epoch 1000 : loss = 0.113, accuracy = 0.094, precision=0.976, recall=0.070, f1=0.131\n",
      "\n",
      "Final Test : accuracy = 0.094, precision=0.976, recall=0.070, f1=0.131\n",
      "\n",
      "증폭 적용\n",
      "Epoch 100 : loss = 0.342, accuracy = 0.496, precision=0.971, recall=0.476, f1=0.639\n",
      "Epoch 200 : loss = 0.348, accuracy = 0.496, precision=0.994, recall=0.439, f1=0.609\n",
      "Epoch 300 : loss = 0.340, accuracy = 0.496, precision=0.978, recall=0.467, f1=0.632\n",
      "Epoch 400 : loss = 0.315, accuracy = 0.496, precision=0.897, recall=0.510, f1=0.650\n",
      "Epoch 500 : loss = 0.315, accuracy = 0.496, precision=0.967, recall=0.482, f1=0.643\n",
      "Epoch 600 : loss = 0.323, accuracy = 0.496, precision=0.972, recall=0.482, f1=0.644\n",
      "Epoch 700 : loss = 0.318, accuracy = 0.496, precision=0.971, recall=0.482, f1=0.644\n",
      "Epoch 800 : loss = 0.319, accuracy = 0.496, precision=0.931, recall=0.497, f1=0.648\n",
      "Epoch 900 : loss = 0.318, accuracy = 0.496, precision=0.933, recall=0.495, f1=0.647\n",
      "Epoch 1000 : loss = 0.317, accuracy = 0.496, precision=0.981, recall=0.471, f1=0.636\n",
      "\n",
      "Final Test : accuracy = 0.496, precision=0.981, recall=0.471, f1=0.636\n"
     ]
    }
   ],
   "source": [
    "# main 함수 동작 구간\n",
    "if __name__ == \"__main__\":\n",
    "    print('증폭 미적용')\n",
    "    binary_classification_exec(epochs = 1000, report = 100, mb_size = 10, adjust_ratio=False)\n",
    "\n",
    "    print('\\n증폭 적용')\n",
    "    binary_classification_exec(epochs = 1000, report = 100, mb_size = 10, adjust_ratio=True)"
   ]
  }
 ],
 "metadata": {
  "kernelspec": {
   "display_name": "Python 3",
   "language": "python",
   "name": "python3"
  },
  "language_info": {
   "codemirror_mode": {
    "name": "ipython",
    "version": 3
   },
   "file_extension": ".py",
   "mimetype": "text/x-python",
   "name": "python",
   "nbconvert_exporter": "python",
   "pygments_lexer": "ipython3",
   "version": "3.7.3"
  }
 },
 "nbformat": 4,
 "nbformat_minor": 2
}
