{
 "cells": [
  {
   "cell_type": "markdown",
   "metadata": {},
   "source": [
    "# MultipleClassification.ipynb\n",
    "Description   : Single-layer neural network for multiple classification"
   ]
  },
  {
   "cell_type": "code",
   "execution_count": 25,
   "metadata": {},
   "outputs": [],
   "source": [
    "import os\n",
    "\n",
    "# 경로 초기화\n",
    "os.chdir(r\"C:\\Users\\TitusChoi\\Desktop\\Library\\CodeLion\\AI\")"
   ]
  },
  {
   "cell_type": "code",
   "execution_count": 26,
   "metadata": {},
   "outputs": [],
   "source": [
    "import numpy as np\n",
    "import csv\n",
    "\n",
    "# Hyperparameter\n",
    "np.random.seed(1024)\n",
    "RND_MEAN = 0\n",
    "RND_STD = 0.003\n",
    "\n",
    "LEARNING_RATE = 0.003"
   ]
  },
  {
   "cell_type": "code",
   "execution_count": 27,
   "metadata": {},
   "outputs": [],
   "source": [
    "# Main function\n",
    "def multiple_classification_exec(epochs = 100, mb_size = 100, report = 10, tr = 0.75): # 학습 횟수, 미니 배치 사이즈, 학습 리포트, 훈련 비율(데이터 전부 훈련시키지 않고 그 중 훈련 비율만큼 훈련, 나머지는 시험 비율이 된다.)\n",
    "    multiple_load_dataset() # 데이터 셋 여는 함수\n",
    "    init_model() # 가중치와 편향 초기화 함수\n",
    "    train_and_test(epochs, mb_size, report, tr) # 학습 및 신경망 성능 테스트 함수"
   ]
  },
  {
   "cell_type": "code",
   "execution_count": 28,
   "metadata": {},
   "outputs": [],
   "source": [
    "# Data load, one-hot encoding(이미 처리가 되어 있음)\n",
    "def multiple_load_dataset():\n",
    "    # Loading datasets\n",
    "    with open('./datasets/faults.csv') as csvfile:\n",
    "        csvreader = csv.reader(csvfile)\n",
    "        next(csvreader, None) # 첫 번째 index 건너뛰고 none으로 반환\n",
    "        rows = []\n",
    "        for row in csvreader:\n",
    "            rows.append(row)\n",
    "\n",
    "    # Global Variable : 함수 구축 시 주요하게 사용되는 변수를 확인하기 위한 장점때문에 사용\n",
    "    global data, input_cnt, output_cnt\n",
    "    input_cnt, output_cnt = 27, 7 # 독립변수의 크기와 종속변수의 크기, 종속 변수가 7개이다.\n",
    "    data = np.asarray(rows, dtype='float32')"
   ]
  },
  {
   "cell_type": "code",
   "execution_count": 29,
   "metadata": {},
   "outputs": [],
   "source": [
    "def init_model():\n",
    "    global weight, bias, input_cnt, output_cnt\n",
    "    weight = np.random.normal(RND_MEAN, RND_STD, [input_cnt, output_cnt])\n",
    "    bias = np.random.normal(RND_MEAN, RND_STD, [output_cnt])"
   ]
  },
  {
   "cell_type": "code",
   "execution_count": 30,
   "metadata": {},
   "outputs": [],
   "source": [
    "# Train and Test\n",
    "def train_and_test(epochs, mb_size, report, tr):\n",
    "    steps = arrange_data(mb_size, tr)           # 반환하는 값은 미니배치가 몇 덩어리(스텝)으로 쪼개지는지?\n",
    "    test_x, test_y = get_test_data()               # 테스트 데이터에 대한 독립변수와 종속변수를 얻어내는 함수\n",
    "\n",
    "    # epochs는 외부 for문으로 돌림\n",
    "    # 미니배치는 내부 for문으로 돌리기 때문에 시간복잡도 증가\n",
    "    for epoch in range(epochs):\n",
    "        losses, accuracies = [], [] # epochs당 손실함수와 정확도 for 평균\n",
    "        for n in range(steps):\n",
    "            train_x, train_y = get_train_data(mb_size, n) # 미니배치 사이즈와 스텝의 수만큼 개별값을 받아 학습데이터의 독립, 종속변수 반환\n",
    "            loss, accuracy = run_train(train_x, train_y)\n",
    "            losses.append(loss)\n",
    "            accuracies.append(accuracy)\n",
    "        \n",
    "        # 몇 번의 간격에 맞춰서 출력할 것인지 report에 따라서 다름\n",
    "        if report > 0 and (epoch + 1) % report == 0:\n",
    "            accuracy = run_test(test_x, test_y)\n",
    "            print('Epoch {} : loss = {:5.3f}, accuracy = {:5.3f}, Test={:5.3f}'\\\n",
    "                .format(epoch + 1, np.mean(losses), np.mean(accuracies), accuracy))\n",
    "    \n",
    "    final_accuracy = run_test(test_x, test_y)\n",
    "    print(\"\\n 최종 테스트 결과 : final accuracy = {:5.3f}\".format(final_accuracy))"
   ]
  },
  {
   "cell_type": "code",
   "execution_count": 31,
   "metadata": {},
   "outputs": [],
   "source": [
    "# Arrange data\n",
    "def arrange_data(mb_size, tr):\n",
    "    global data, shuffle_map, test_begin_index\n",
    "    shuffle_map = np.arange(data.shape[0])\n",
    "    np.random.shuffle(shuffle_map)\n",
    "    # 미니 배치 스텝 수를 구하는 과정\n",
    "    steps = int(data.shape[0] * tr) // mb_size\n",
    "\n",
    "    # Search boundary line\n",
    "    test_begin_index = steps * mb_size\n",
    "    return steps"
   ]
  },
  {
   "cell_type": "code",
   "execution_count": 32,
   "metadata": {},
   "outputs": [],
   "source": [
    "# Getting training data\n",
    "def get_train_data(mb_size, nth):\n",
    "    global data, shuffle_map, test_begin_index, output_cnt\n",
    "    if nth == 0:\n",
    "        np.random.shuffle(shuffle_map[:test_begin_index]) # 무작위로 특정 인덱스까지 무작위로 섞기\n",
    "    train_data = data[shuffle_map[mb_size * nth : mb_size * (nth + 1)]]\n",
    "    return train_data[:, :-output_cnt], train_data[:, -output_cnt:]"
   ]
  },
  {
   "cell_type": "code",
   "execution_count": 33,
   "metadata": {},
   "outputs": [],
   "source": [
    "# Test data\n",
    "def get_test_data():\n",
    "    global data, shuffle_map, test_begin_index, output_cnt\n",
    "    test_data = data[shuffle_map[test_begin_index:]]\n",
    "    return test_data[:, :-output_cnt], test_data[:, -output_cnt:]"
   ]
  },
  {
   "cell_type": "code",
   "execution_count": 34,
   "metadata": {},
   "outputs": [],
   "source": [
    "# running test\n",
    "def run_test(x, y):\n",
    "    output, _ = forward_neuralnet(x)\n",
    "    accuracy = eval_accuracy(output, y)\n",
    "    return accuracy"
   ]
  },
  {
   "cell_type": "code",
   "execution_count": 35,
   "metadata": {},
   "outputs": [],
   "source": [
    "# 기능 수정\n",
    "def forward_postproc(output, y):\n",
    "    entropy = softmax_cross_entropy_with_logits(y, output)\n",
    "    loss = np.mean(entropy)\n",
    "\n",
    "    return loss, [y, output, entropy]"
   ]
  },
  {
   "cell_type": "code",
   "execution_count": 36,
   "metadata": {},
   "outputs": [],
   "source": [
    "# forward neural network\n",
    "def forward_neuralnet(x):\n",
    "    global weight, bias\n",
    "    output = np.matmul(x, weight) + bias\n",
    "    # 두 번째 반환 값인 x는 aux_nn으로 반환처리, 역전파 수행시 활용하기 위해 정의\n",
    "    return output, x"
   ]
  },
  {
   "cell_type": "markdown",
   "metadata": {},
   "source": [
    "활용할 활성화 함수는 softmax이며, 정의는 아래와 같다.\n",
    "$$f(x) = {\\frac{e^{x_i}}{\\sum_{k=1}^N e^{x_k}}}$$\n",
    "오버플로우(overflow) 방지를 위해 다음과 같이 변형시킨다.\n",
    "$$f(x) = {\\frac{e^{x_i-x_k}}{e^{x_1-x_k}+e^{x_2-x_k}+\\dots+e^{x_n-x_k}}}$$"
   ]
  },
  {
   "cell_type": "code",
   "execution_count": 37,
   "metadata": {},
   "outputs": [],
   "source": [
    "def softmax(x):\n",
    "    # output 값 중 최댓값, axis = 1 -> 열과 후보값 기준으로 가장 큰 값을 추출하기 위해 열 기준으로 추출하는 axis=1 첨가\n",
    "    max_elem = np.max(x, axis = 1)\n",
    "\n",
    "    # i번째 x와 가장 큰 값을 빼는 과정, diff는 행렬 전환하여 계산해야 한다.\n",
    "    diff = (x.transpose() - max_elem).transpose()\n",
    "    diff_exp = np.exp(diff)\n",
    "\n",
    "    sum_exp = np.sum(diff_exp, axis = 1)\n",
    "    probs = (diff_exp.transpose() / sum_exp).transpose()\n",
    "    \n",
    "    # 소프트맥스를 통과할 확률\n",
    "    return probs"
   ]
  },
  {
   "cell_type": "code",
   "execution_count": 38,
   "metadata": {},
   "outputs": [],
   "source": [
    "# 소프트맥스 파이썬 폭주 방지\n",
    "def softmax_cross_entropy_with_logits(labels, logits):\n",
    "    probs = softmax(logits)\n",
    "    return -np.sum(labels * np.log(probs + 1.0e-10), axis = 1)"
   ]
  },
  {
   "cell_type": "code",
   "execution_count": 39,
   "metadata": {},
   "outputs": [],
   "source": [
    "# 소프트맥스 미분 값\n",
    "def softmax_cross_entropy_with_logits_derv(labels, logits):\n",
    "    return softmax(logits) - labels"
   ]
  },
  {
   "cell_type": "code",
   "execution_count": 40,
   "metadata": {},
   "outputs": [],
   "source": [
    "# Training data\n",
    "def run_train(x, y):\n",
    "    output, aux_nn = forward_neuralnet(x)\n",
    "    # 손실함수 찾기\n",
    "    loss, aux_pp = forward_postproc(output, y)\n",
    "    # 정확도 찾기\n",
    "    accuracy = eval_accuracy(output, y)\n",
    "\n",
    "    # 역전파 후 파라미터 갱신\n",
    "    G_output = backprop_postproc(aux_pp)\n",
    "\n",
    "    return loss, accuracy"
   ]
  },
  {
   "cell_type": "code",
   "execution_count": 41,
   "metadata": {},
   "outputs": [],
   "source": [
    "def backprop_postproc(aux_pp):\n",
    "    y, output, entropy = aux_pp\n",
    "    G_loss = 1.0\n",
    "\n",
    "    g_loss_entropy = 1.0 / np.prod(entropy.shape)\n",
    "    g_entropy_output = softmax_cross_entropy_with_logits_derv(y, output)\n",
    "\n",
    "    G_entropy = g_loss_entropy * G_loss\n",
    "    G_output = g_entropy_output * G_entropy\n",
    "\n",
    "    return G_output"
   ]
  },
  {
   "cell_type": "code",
   "execution_count": 42,
   "metadata": {},
   "outputs": [],
   "source": [
    "# backpropagation Neural Network : 신경망 역전파 연산 -> 가중치, 편향 값 변화\n",
    "def backprop_neuralnet(G_output, x):\n",
    "    global weight, bias\n",
    "    g_output_w = x.transpose() # 행렬 곱을 위한 transpose\n",
    "\n",
    "    G_w = np.matmul(g_output_w, G_output)\n",
    "    G_b = np.sum(G_output, axis = 0) # axis = 0, x축 row 연산\n",
    "\n",
    "    weight -= LEARNING_RATE * G_w\n",
    "    bias -= LEARNING_RATE * G_b"
   ]
  },
  {
   "cell_type": "code",
   "execution_count": 43,
   "metadata": {},
   "outputs": [],
   "source": [
    "def eval_accuracy(output, y):\n",
    "    estimate = np.argmax(output, axis = 1) # 제일 큰 output 저장\n",
    "    answer = np.argmax(y, axis = 1) # 제일 큰 y 저장\n",
    "    correct = np.equal(estimate, answer)\n",
    "\n",
    "    return np.mean(correct)"
   ]
  },
  {
   "cell_type": "code",
   "execution_count": 44,
   "metadata": {},
   "outputs": [
    {
     "name": "stdout",
     "output_type": "stream",
     "text": [
      "Epoch 100 : loss = 18.379, accuracy = 0.202, Test=0.236\n",
      "Epoch 200 : loss = 18.379, accuracy = 0.202, Test=0.236\n",
      "Epoch 300 : loss = 18.379, accuracy = 0.202, Test=0.236\n",
      "Epoch 400 : loss = 18.379, accuracy = 0.202, Test=0.236\n",
      "Epoch 500 : loss = 18.379, accuracy = 0.202, Test=0.236\n",
      "Epoch 600 : loss = 18.379, accuracy = 0.202, Test=0.236\n",
      "Epoch 700 : loss = 18.379, accuracy = 0.202, Test=0.236\n",
      "Epoch 800 : loss = 18.379, accuracy = 0.202, Test=0.236\n",
      "Epoch 900 : loss = 18.379, accuracy = 0.202, Test=0.236\n",
      "Epoch 1000 : loss = 18.379, accuracy = 0.202, Test=0.236\n",
      "\n",
      " 최종 테스트 결과 : final accuracy = 0.236\n"
     ]
    }
   ],
   "source": [
    "# main 함수 동작 구간\n",
    "if __name__ == \"__main__\":\n",
    "    multiple_classification_exec(epochs=1000, mb_size=10, report=100, tr=0.85)"
   ]
  },
  {
   "cell_type": "code",
   "execution_count": null,
   "metadata": {},
   "outputs": [],
   "source": []
  }
 ],
 "metadata": {
  "kernelspec": {
   "display_name": "Python 3",
   "language": "python",
   "name": "python3"
  },
  "language_info": {
   "codemirror_mode": {
    "name": "ipython",
    "version": 3
   },
   "file_extension": ".py",
   "mimetype": "text/x-python",
   "name": "python",
   "nbconvert_exporter": "python",
   "pygments_lexer": "ipython3",
   "version": "3.7.3"
  }
 },
 "nbformat": 4,
 "nbformat_minor": 2
}
