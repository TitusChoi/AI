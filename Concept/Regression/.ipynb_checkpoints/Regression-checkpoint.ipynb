{
 "cells": [
  {
   "cell_type": "markdown",
   "metadata": {},
   "source": [
    "# Regression.ipynb\n",
    "Description   : Single-layer neural network for regression"
   ]
  },
  {
   "cell_type": "markdown",
   "metadata": {},
   "source": [
    "## 회귀를 위한 신경망 설계\n",
    "신경망을 직접 구현하여 회귀를 활용해보기로 한다.<br>\n",
    "많은 예시로 사용되고 있는 전복 자료를 통한 단층 퍼셉트론을 구현해보자."
   ]
  },
  {
   "cell_type": "code",
   "execution_count": 1,
   "metadata": {},
   "outputs": [],
   "source": [
    "import numpy as np\n",
    "import csv\n",
    "import matplotlib.pyplot as plt\n",
    "import os\n",
    "\n",
    "np.random.seed(1024)\n",
    "# 경로 초기화\n",
    "os.chdir(r\"C:\\Users\\TitusChoi\\Desktop\\Library\\CodeLion\\AI\")"
   ]
  },
  {
   "cell_type": "code",
   "execution_count": 2,
   "metadata": {},
   "outputs": [],
   "source": [
    "# Hyperparameter\n",
    "RND_MEAN = 0\n",
    "RND_STD = 0.003\n",
    "LEARNING_RATE = 0.001"
   ]
  },
  {
   "cell_type": "code",
   "execution_count": 3,
   "metadata": {},
   "outputs": [],
   "source": [
    "# Main function\n",
    "def regression_exec(epochs = 10, mb_size = 10, report = 1, tr = 0.7): # 학습 횟수, 미니 배치 사이즈, 학습 리포트, 훈련 비율(데이터 전부 훈련시키지 않고 그 중 훈련 비율만큼 훈련, 나머지는 시험 비율이 된다.)\n",
    "    regression_load_dataset() # 데이터 셋 여는 함수\n",
    "    init_model() # 가중치와 편향 초기화 함수\n",
    "    train_and_test(epochs, mb_size, report, tr) # 학습 및 신경망 성능 테스트 함수"
   ]
  },
  {
   "cell_type": "code",
   "execution_count": 4,
   "metadata": {},
   "outputs": [],
   "source": [
    "# Data load, one-hot encoding\n",
    "def regression_load_dataset():\n",
    "    # Loading datasets\n",
    "    with open('./datasets/abalone.csv') as csvfile:\n",
    "        csvreader = csv.reader(csvfile)\n",
    "        next(csvreader, None) # 첫 번째 index 건너뛰고 none으로 반환\n",
    "        rows = []\n",
    "        for row in csvreader:\n",
    "            rows.append(row)\n",
    "\n",
    "    # Global Variable : 함수 구축 시 주요하게 사용되는 변수를 확인하기 위한 장점때문에 사용\n",
    "    global data, input_cnt, output_cnt\n",
    "    input_cnt, output_cnt = 10, 1 # 독립변수의 크기와 종속변수의 크기\n",
    "    \n",
    "    # Buffer\n",
    "    data = np.zeros([len(rows), input_cnt + output_cnt])\n",
    "\n",
    "    # One-hot encoding\n",
    "    for index, row in enumerate(rows):\n",
    "        if row[0] == 'I' : data[index, 0] = 1\n",
    "        elif row[0] == 'M' : data[index, 1] = 1\n",
    "        elif row[0] == 'F' : data[index, 2] = 1\n",
    "        data[index, 3:] = row[1:]"
   ]
  },
  {
   "cell_type": "code",
   "execution_count": 5,
   "metadata": {},
   "outputs": [],
   "source": [
    "# Parameter Initialization\n",
    "def init_model():\n",
    "    global weight, bias, input_cnt, output_cnt\n",
    "    weight = np.random.normal(RND_MEAN, RND_STD, [input_cnt, output_cnt])\n",
    "    bias = np.zeros([output_cnt])"
   ]
  },
  {
   "cell_type": "code",
   "execution_count": 6,
   "metadata": {},
   "outputs": [],
   "source": [
    "# Train and Test / Result check\n",
    "def train_and_test(epochs, mb_size, report, tr):\n",
    "    steps = arrange_data(mb_size, tr)           # 반환하는 값은 미니배치가 몇 덩어리(스텝)으로 쪼개지는지?\n",
    "    test_x, test_y = get_test_data()               # 테스트 데이터에 대한 독립변수와 종속변수를 얻어내는 함수\n",
    "\n",
    "    # epochs는 외부 for문으로 돌림\n",
    "    # 미니배치는 내부 for문으로 돌리기 때문에 시간복잡도 증가\n",
    "    for epoch in range(epochs):\n",
    "        losses, accuracies = [], [] # epochs당 손실함수와 정확도 for 평균\n",
    "        for n in range(steps):\n",
    "            train_x, train_y = get_train_data(mb_size, n) # 미니배치 사이즈와 스텝의 수만큼 개별값을 받아 학습데이터의 독립, 종속변수 반환\n",
    "            loss, accuracy = run_train(train_x, train_y)\n",
    "            losses.append(loss)\n",
    "            accuracies.append(accuracy)\n",
    "        \n",
    "        if report > 0 and (epoch + 1) % report == 0:\n",
    "            accuracy = run_test(test_x, test_y)\n",
    "            print('Epoch {} : loss = {:5.3f}, accuracy = {:5.3f}, Test={:5.3f}'\\\n",
    "                .format(epoch + 1, np.mean(losses), np.mean(accuracies), accuracy))\n",
    "    \n",
    "    final_accuracy = run_test(test_x, test_y)\n",
    "    print(\"\\n 최종 테스트 결과 : final accuracy = {:5.3f}\".format(final_accuracy))"
   ]
  },
  {
   "cell_type": "code",
   "execution_count": 7,
   "metadata": {},
   "outputs": [],
   "source": [
    "# Datasets Shuffle -> mini batch size\n",
    "def arrange_data(mb_size, tr):\n",
    "    global data, shuffle_map, test_begin_index\n",
    "    shuffle_map = np.arange(data.shape[0])\n",
    "    np.random.shuffle(shuffle_map)\n",
    "    # 미니 배치 스텝 수를 구하는 과정\n",
    "    steps = int(data.shape[0] * tr) // mb_size\n",
    "\n",
    "    # Search boundary line\n",
    "    test_begin_index = steps * mb_size\n",
    "    return steps"
   ]
  },
  {
   "cell_type": "code",
   "execution_count": 8,
   "metadata": {},
   "outputs": [],
   "source": [
    "# Training Data\n",
    "def get_train_data(mb_size, nth):\n",
    "    global data, shuffle_map, test_begin_index, output_cnt\n",
    "    if nth== 0:\n",
    "        np.random.shuffle(shuffle_map[:test_begin_index]) # 무작위로 특정 인덱스까지 무작위로 섞기\n",
    "    train_data = data[shuffle_map[mb_size * nth : mb_size * (nth + 1)]]\n",
    "    return train_data[:, :-output_cnt], train_data[:, -output_cnt:]"
   ]
  },
  {
   "cell_type": "code",
   "execution_count": 9,
   "metadata": {},
   "outputs": [],
   "source": [
    "# Test Data\n",
    "def get_test_data():\n",
    "    global data, shuffle_map, test_begin_index, output_cnt\n",
    "    test_data = data[shuffle_map[test_begin_index:]]\n",
    "    return test_data[:, :-output_cnt], test_data[:, -output_cnt:]"
   ]
  },
  {
   "cell_type": "code",
   "execution_count": 10,
   "metadata": {},
   "outputs": [],
   "source": [
    "# Running Training\n",
    "def run_train(x, y):\n",
    "    output, aux_nn = forward_neuralnet(x)       # 신경망 연산, aux는 보조자료를 의미\n",
    "    loss, aux_pp = forward_postproc(output, y)  # 신경망에 따른 손실함수 연산 과정('Mean Square Error'), aux 뒤 pp는 postprocessing\n",
    "    \n",
    "    # 학습 1단계(순전파 및 학습과정)\n",
    "    accuracy = eval_accuracy(output, y)         \n",
    "\n",
    "    # 학습 2단계\n",
    "    G_loss = 1.0\n",
    "    G_output = backprop_postproc(G_loss, aux_pp)\n",
    "    backprop_neuralnet(G_output, aux_nn)\n",
    "\n",
    "    return loss, accuracy"
   ]
  },
  {
   "cell_type": "code",
   "execution_count": 11,
   "metadata": {},
   "outputs": [],
   "source": [
    "# Running Test\n",
    "def run_test(x, y):\n",
    "    output, _ = forward_neuralnet(x)\n",
    "    accuracy = eval_accuracy(output, y)\n",
    "    return accuracy"
   ]
  },
  {
   "cell_type": "code",
   "execution_count": 12,
   "metadata": {},
   "outputs": [],
   "source": [
    "# Evaluating Accuracy\n",
    "def eval_accuracy(output, y):\n",
    "    mdiff = np.mean(np.abs((output-y) / y))\n",
    "    return 1 - mdiff"
   ]
  },
  {
   "cell_type": "code",
   "execution_count": 13,
   "metadata": {},
   "outputs": [],
   "source": [
    "# Forward Propagation Neural Network : 신경망 순전파 연산\n",
    "def forward_neuralnet(x):\n",
    "    global weight, bias\n",
    "    output = np.matmul(x, weight) + bias\n",
    "    # 두 번째 반환 값인 x는 aux_nn으로 반환처리, 역전파 수행시 활용하기 위해 정의\n",
    "    return output, x"
   ]
  },
  {
   "cell_type": "code",
   "execution_count": 14,
   "metadata": {},
   "outputs": [],
   "source": [
    "# Forward Propagation Postprocessing : 신경망의 순전파에 따른 Mean Square Error를 도출하는 연산 \n",
    "def forward_postproc(output, y):\n",
    "    # 편차(diff) -> 제곱 -> 손실평균(loss)\n",
    "    diff = output - y\n",
    "    square = np.square(diff)\n",
    "\n",
    "    loss = np.mean(square)\n",
    "    # 편차를 반환하는 이유는 역전파 수행시 필요함(aux_pp)\n",
    "    return loss, diff"
   ]
  },
  {
   "cell_type": "code",
   "execution_count": 15,
   "metadata": {},
   "outputs": [],
   "source": [
    "# Backpropagation Postprocessing : 신경망의 역전파에 따른 선행 연산\n",
    "def backprop_postproc(G_loss, diff):\n",
    "    shape = diff.shape # M, N 정보 들어가 있음.\n",
    "    g_loss_square = np.ones(shape) / np.prod(shape)\n",
    "    g_square_diff = diff * 2\n",
    "    g_diff_output = 1\n",
    "\n",
    "    G_square = g_loss_square * G_loss\n",
    "    G_diff = g_square_diff * G_square\n",
    "    G_output = g_diff_output * G_diff\n",
    "\n",
    "    return G_output"
   ]
  },
  {
   "cell_type": "code",
   "execution_count": 16,
   "metadata": {},
   "outputs": [],
   "source": [
    "# Backpropagation Neural Network : 신경망 역전파 연산 -> 가중치, 편향 값 변화\n",
    "def backprop_neuralnet(G_output, x):\n",
    "    global weight, bias\n",
    "    g_output_w = x.transpose() # 행렬 곱을 위한 transpose\n",
    "\n",
    "    G_w = np.matmul(g_output_w, G_output)\n",
    "    G_b = np.sum(G_output, axis = 0)\n",
    "\n",
    "    weight -= LEARNING_RATE * G_w\n",
    "    bias -= LEARNING_RATE * G_b"
   ]
  },
  {
   "cell_type": "code",
   "execution_count": 17,
   "metadata": {},
   "outputs": [
    {
     "name": "stdout",
     "output_type": "stream",
     "text": [
      "Epoch 1 : train - loss = 37.336, accuracy = 0.523, Test=0.795\n",
      "Epoch 2 : train - loss = 8.798, accuracy = 0.817, Test=0.818\n",
      "Epoch 3 : train - loss = 7.675, accuracy = 0.814, Test=0.811\n",
      "Epoch 4 : train - loss = 7.552, accuracy = 0.809, Test=0.810\n",
      "Epoch 5 : train - loss = 7.473, accuracy = 0.809, Test=0.809\n",
      "Epoch 6 : train - loss = 7.406, accuracy = 0.807, Test=0.811\n",
      "Epoch 7 : train - loss = 7.351, accuracy = 0.809, Test=0.810\n",
      "Epoch 8 : train - loss = 7.299, accuracy = 0.809, Test=0.810\n",
      "Epoch 9 : train - loss = 7.252, accuracy = 0.808, Test=0.811\n",
      "Epoch 10 : train - loss = 7.213, accuracy = 0.809, Test=0.811\n",
      "\n",
      " 최종 테스트 결과 : final accuracy = 0.811\n",
      "\n",
      "가중치 :\n",
      " [[1.03216701]\n",
      " [1.49331302]\n",
      " [1.58950247]\n",
      " [2.0296901 ]\n",
      " [1.59757436]\n",
      " [0.58972833]\n",
      " [2.44555537]\n",
      " [0.61032502]\n",
      " [0.49847128]\n",
      " [1.02251065]]\n",
      "\n",
      "편향 : [4.1136748]\n"
     ]
    }
   ],
   "source": [
    "# main 함수 동작 구간\n",
    "if __name__ == \"__main__\":\n",
    "    regression_exec()\n",
    "\n",
    "    print('\\n가중치 :\\n', weight)\n",
    "    print('\\n편향 :', bias)"
   ]
  }
 ],
 "metadata": {
  "kernelspec": {
   "display_name": "Python 3",
   "language": "python",
   "name": "python3"
  },
  "language_info": {
   "codemirror_mode": {
    "name": "ipython",
    "version": 3
   },
   "file_extension": ".py",
   "mimetype": "text/x-python",
   "name": "python",
   "nbconvert_exporter": "python",
   "pygments_lexer": "ipython3",
   "version": "3.7.3"
  }
 },
 "nbformat": 4,
 "nbformat_minor": 2
}
