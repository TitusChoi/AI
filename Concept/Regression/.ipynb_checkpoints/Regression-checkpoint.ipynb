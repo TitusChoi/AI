{
 "cells": [
  {
   "cell_type": "markdown",
   "metadata": {},
   "source": [
    "# Regression.ipynb\n",
    "Description   : Single-layer neural network for regression"
   ]
  },
  {
   "cell_type": "markdown",
   "metadata": {},
   "source": [
    "## 1. 문제 정의\n",
    "제주를 비롯한 다양한 국가에서 동시 다발적으로 발생하고 있는 문제인 수온 변화는 해조류의 감소와 더불어 생태계를 변화시키는 요인이라고 한다. 그중 전복의 나이를 예측하게 되면 해당 서식지에 대한 직간접적인 정보를 추정할 수 있으며, 이를 활용하여 다양한 추가 연구가 가능하다는 장점이 있다. 기존 연구는 현미경을 활용하여 전복 껍질에 고리 수를 확인하고 그 값에 1.5를 더해야만 추정이 가능했지만, 회귀를 활용해 연관되는 특징을 바탕으로 나이를 추정하는 예측 모델을 개발하게 된다면 이러한 문제를 조금이나마 해결하는데 실마리를 제공할 수 있지 않을까 싶어 전복 나이 예측 회귀 모델을 구축해보려 한다. 우선 회귀 모델 구축에 필요한 라이브러리의 역할은 아래와 같다.\n",
    "- numpy : 행렬 연산을 위한 라이브러리\n",
    "- csv : csv 파일을 열기 위한 라이브러리\n",
    "- matplotlib.pyplot : 시각화를 위한 라이브러리\n",
    "- os : 특정 파일 경로 초기화를 위한 라이브러리\n",
    "\n",
    "그중 난수를 1024로 고정시키는 이유는 매번 다른 결과가 출력되는 것을 방지하기 위함이다. 이 수는 설계자의 임의대로 설정하면 된다."
   ]
  },
  {
   "cell_type": "code",
   "execution_count": 1,
   "metadata": {},
   "outputs": [],
   "source": [
    "import numpy as np\n",
    "import csv\n",
    "import matplotlib.pyplot as plt\n",
    "import os\n",
    "\n",
    "np.random.seed(1024)\n",
    "# 경로 초기화\n",
    "os.chdir(r\"C:\\Users\\TitusChoi\\Desktop\\Library\\CodeLion\\AI\")"
   ]
  },
  {
   "cell_type": "markdown",
   "metadata": {},
   "source": [
    "## 2. 하이퍼파라미터 정의\n",
    "하이퍼파라미터 초기화를 위해 아래와 같이 정의했다.\n",
    "- RND_MEAN : 가중치의 무작위 초기 변수 선정을 위해 평균 설정\n",
    "- RND_STD : 가중치의 무작위 초기 변수 선정을 위해 표준편차 설정\n",
    "- LEARNING : 학습률 $\\eta$ 설정\n",
    "\n",
    "신경망은 수많은 행렬로 구성되어있다. 행렬을 구성하는 처음 숫자는 초기에 무작위 값으로 지정해줄 수 밖에 없다. 무작정 무작위로 정하기보다는 적어도 규칙성이 있는 난수를 정하는 것이 필요하다. 이러한 초기화 기법 중 정형화되있는 것이 Xavier initialization, He initailization인데, 본 회귀에서는 정규분포를 활용하고 이는 추후에 직접 다뤄보겠다."
   ]
  },
  {
   "cell_type": "code",
   "execution_count": 2,
   "metadata": {},
   "outputs": [],
   "source": [
    "# Hyperparameter\n",
    "RND_MEAN = 0\n",
    "RND_STD = 0.003\n",
    "LEARNING_RATE = 0.001"
   ]
  },
  {
   "cell_type": "markdown",
   "metadata": {},
   "source": [
    "## 3. 함수 설계\n",
    "전체 호출 구조도는 다음과 같다.\n",
    "<center><img src=\"img/overall_diagram.jpg\" width=\"75%\"></center>\n",
    "<center>Figure 1. Overall Regression Functions Diagram</center>"
   ]
  },
  {
   "cell_type": "markdown",
   "metadata": {},
   "source": [
    "### 3.1. 실행 함수 설계 : regression_exec(epochs = 10, mb_size = 10, report = 1, tr = 0.7)\n",
    "실험용 main 함수는 regression_exec로 다음과 같이 정의된다. 아래와 같은 기능의 함수가 활용되었다.\n",
    "1. regression_load_dataset : 데이터를 불러오는 함수\n",
    "2. init_model : 가중치와 편향을 초기화해주는 함수\n",
    "3. train_and_test : 훈련시키고 테스트하는 함수\n",
    "\n",
    "main 함수의 입력인자로는 아래와 같다.\n",
    "- epochs : 학습 횟수\n",
    "- mb_size : 미니배치 크기\n",
    "- report : 중간 보고 주기\n",
    "- tr : 학습 데이터 비율(training rate)\n",
    "\n",
    "각 변수 기본값을 설계자가 임의로 설정해줌으로서 이후 함수를 호출할 때 생략도 가능하다."
   ]
  },
  {
   "cell_type": "code",
   "execution_count": 3,
   "metadata": {},
   "outputs": [],
   "source": [
    "# Main function\n",
    "def regression_exec(epochs = 10, mb_size = 10, report = 1, tr = 0.7): # 학습 횟수, 미니 배치 사이즈, 학습 리포트, 훈련 비율(데이터 전부 훈련시키지 않고 그 중 훈련 비율만큼 훈련, 나머지는 시험 비율이 된다.)\n",
    "    regression_load_dataset() # 데이터 셋 여는 함수\n",
    "    init_model() # 가중치와 편향 초기화 함수\n",
    "    train_and_test(epochs, mb_size, report, tr) # 학습 및 신경망 성능 테스트 함수"
   ]
  },
  {
   "cell_type": "markdown",
   "metadata": {},
   "source": [
    "### 3.2. 데이터셋 열기 및 원-핫 인코딩 기능 설계 : regression_load_dataset()\n",
    "데이터셋을 열고 원-핫 인코딩을 하는 함수 regression_load_dataset을 설계해보자.\n",
    "<center><img src=\"img/abalone_datasets.jpg\" width=\"75%\"></center>\n",
    "<center>Figure 2. Abalone Datasets</center>\n",
    "전복 데이터 셋은 다음과 같다. 매개변수는 총 8개로 성별, 길이, 지름, 높이, 전체 무게, 껍질을 벗긴 무게, 내장 무게, 껍질 무게, 전복 고리이다. 여기서 성별 데이터에 원-핫 인코딩 처리를 해서 총 10개의 독립변수를 생성해줄 것이다. next 함수를 써준 이유는 첫 줄이 변수명으로 이루어진 열이기 때문이다. next 처리를 해주면 데이터부터 출력하게 만들어준다. 원-핫 인코딩 처리를 통해 늘어난 데이터는 가상 공간 data라는 buffer에 저장할 것이다."
   ]
  },
  {
   "cell_type": "code",
   "execution_count": 4,
   "metadata": {},
   "outputs": [],
   "source": [
    "# Data load, one-hot encoding\n",
    "def regression_load_dataset():\n",
    "    # Loading datasets\n",
    "    with open('./datasets/abalone.csv') as csvfile:\n",
    "        csvreader = csv.reader(csvfile)\n",
    "        next(csvreader, None) # 첫 번째 index 건너뛰고 none으로 반환\n",
    "        rows = []\n",
    "        for row in csvreader:\n",
    "            rows.append(row)\n",
    "\n",
    "    # Global Variable : 함수 구축 시 주요하게 사용되는 변수를 확인하기 위한 장점때문에 사용\n",
    "    global data, input_cnt, output_cnt\n",
    "    input_cnt, output_cnt = 10, 1 # 독립변수의 크기와 종속변수의 크기\n",
    "    \n",
    "    # Buffer\n",
    "    data = np.zeros([len(rows), input_cnt + output_cnt])\n",
    "\n",
    "    # One-hot encoding\n",
    "    for index, row in enumerate(rows):\n",
    "        if row[0] == 'I' : data[index, 0] = 1\n",
    "        elif row[0] == 'M' : data[index, 1] = 1\n",
    "        elif row[0] == 'F' : data[index, 2] = 1\n",
    "        data[index, 3:] = row[1:]"
   ]
  },
  {
   "cell_type": "markdown",
   "metadata": {},
   "source": [
    "### 3.3. 파라미터 초기화 함수 : init_model()\n",
    "가중치와 편향을 정규분포를 활용하여 초기화해주는 함수이다. 여기서 가중치에는 numpy 라이브러리 내에 존재하는 정규분포를 활용했고, 편향에는 0으로 초기화해주었다."
   ]
  },
  {
   "cell_type": "code",
   "execution_count": 2,
   "metadata": {},
   "outputs": [],
   "source": [
    "# Parameter Initialization\n",
    "def init_model():\n",
    "    global weight, bias, input_cnt, output_cnt\n",
    "    weight = np.random.normal(RND_MEAN, RND_STD, [input_cnt, output_cnt])\n",
    "    bias = np.zeros([output_cnt])"
   ]
  },
  {
   "cell_type": "markdown",
   "metadata": {},
   "source": [
    "### 3.4. 학습 데이터 훈련 및 평가 함수 : train_and_test(epochs, mb_size, report, tr)\n",
    "<center><img src=\"img/train_and_test.jpg\" width=\"35%\"></center>\n",
    "<center>Figure 3. train and test function structure</center>\n",
    "main 함수에서 모델의 학습과 평가를 직접 수행하는 함수이다. **적재된 데이터셋과 초기화된 파라미터를 이용하여 학습과 평가의 전체 과정을 수행하는 역할**을 한다.\n",
    "여기서 활용된 함수는 아래와 같다.\n",
    "\n",
    "1. arrange_data : 데이터를 정렬하는 함수\n",
    "2. get_test_data : 평가 데이터의 독립변수와 종속변수를 반환하는 함수\n",
    "3. get_train_data : 훈련 데이터를 가져오는 함수\n",
    "4. run_train : 데이터를 훈련시키는 함수\n",
    "5. run_test : 평가를 수행하는 함수, 정확도를 반환함\n",
    "\n",
    "train_and_test 함수의 입력 값은 아래와 같다.\n",
    "\n",
    "- epochs : 학습 횟수\n",
    "- mb_size : 미니배치 크기\n",
    "- report : 중간 보고 주기\n",
    "- tr : 학습 데이터 비율(training rate)\n",
    "\n",
    "마찬가지로 각 변수 기본값을 설계자가 임의로 설정해줌으로서 이후 함수를 호출할 때 생략도 가능하다. main에서 받은 변수가 여기에서 모두 활용된다."
   ]
  },
  {
   "cell_type": "code",
   "execution_count": 4,
   "metadata": {},
   "outputs": [],
   "source": [
    "# Train and Test / Result check\n",
    "def train_and_test(epochs, mb_size, report, tr):\n",
    "    steps = arrange_data(mb_size, tr)           # 반환하는 값은 미니배치가 몇 덩어리(스텝)으로 쪼개지는지?\n",
    "    test_x, test_y = get_test_data()               # 테스트 데이터에 대한 독립변수와 종속변수를 얻어내는 함수\n",
    "\n",
    "    # epochs는 외부 for문으로 돌림\n",
    "    # 미니배치는 내부 for문으로 돌리기 때문에 시간복잡도 증가\n",
    "    for epoch in range(epochs):\n",
    "        losses, accuracies = [], [] # epochs당 손실함수와 정확도 for 평균\n",
    "        for n in range(steps):\n",
    "            train_x, train_y = get_train_data(mb_size, n) # 미니배치 사이즈와 스텝의 수만큼 개별값을 받아 학습데이터의 독립, 종속변수 반환\n",
    "            loss, accuracy = run_train(train_x, train_y)\n",
    "            losses.append(loss)\n",
    "            accuracies.append(accuracy)\n",
    "        \n",
    "        if report > 0 and (epoch + 1) % report == 0:\n",
    "            accuracy = run_test(test_x, test_y)\n",
    "            print('Epoch {} : loss = {:5.3f}, accuracy = {:5.3f}, Test={:5.3f}'\\\n",
    "                .format(epoch + 1, np.mean(losses), np.mean(accuracies), accuracy))\n",
    "    \n",
    "    final_accuracy = run_test(test_x, test_y)\n",
    "    print(\"\\n 최종 테스트 결과 : final accuracy = {:5.3f}\".format(final_accuracy))"
   ]
  },
  {
   "cell_type": "markdown",
   "metadata": {},
   "source": [
    "### 3.4.1. 데이터를 정렬하는 함수 : arrange_data(mb_size, tr)\n",
    "학습과 평가를 수행하는 함수에서 **데이터를 직접 정렬하는 역할**을 한다. 크게 두 가지 기능을 수행한다.\n",
    "- 학습 자율성을 위해 데이터 섞기 : 전역 변수 shuffle_map의 경우 numpy 내의 arange를 활용하여 data의 행 값인 4177만큼 인덱스를 생성해준다. 그리고 무작위로 전체 4177개의 데이터를 섞는다.\n",
    "- 미니배치 스텝 수 구하기 : 학습 데이터 한 차례 에폭을 수행하기 위한 미니배치의 스텝 수(steps)를 구해준다. 이와 미니배치 크기를 곱해 평가가 시작되는 시작 test_begin_index를 전역변수로 반환해준다.\n",
    "\n",
    "arrange_data 함수의 입력 값은 아래와 같다.\n",
    "\n",
    "- mb_size : 미니배치 크기\n",
    "- tr : 학습 데이터 비율(training rate)\n",
    "\n",
    "arrange_data 함수의 출력 값은 아래와 같다.\n",
    "\n",
    "- steps : 수행할 미니배치 스텝 수\n",
    "\n",
    "추가적으로 test_begin_idx를 설명해보려고 한다. steps는 //를 활용하여 정수 형태로 나머지를 버린 값을 반환한다. mb_size를 100이라고 하면, 스텝 수(steps)를 통해 다음과 같은 수식을 거쳐 초기 index를 찾아낸다.\n",
    "$$steps = \\frac{size_{dataset}\\times tr}{size_{minibatch}} = \\frac{4177 * 0.8}{100} = 33.416$$\n",
    "$$idx_{testbegin} = int(steps)\\times size_{minibatch} = 3300$$"
   ]
  },
  {
   "cell_type": "code",
   "execution_count": 7,
   "metadata": {},
   "outputs": [],
   "source": [
    "# Datasets Shuffle -> mini batch size\n",
    "def arrange_data(mb_size, tr):\n",
    "    global data, shuffle_map, test_begin_index\n",
    "    shuffle_map = np.arange(data.shape[0])\n",
    "    np.random.shuffle(shuffle_map)\n",
    "    # 미니 배치 스텝 수를 구하는 과정\n",
    "    steps = int(data.shape[0] * tr) // mb_size\n",
    "\n",
    "    # Search boundary line\n",
    "    test_begin_index = steps * mb_size\n",
    "    return steps"
   ]
  },
  {
   "cell_type": "markdown",
   "metadata": {},
   "source": [
    "### 3.4.2. 평가 데이터의 독립변수와 종속변수를 반환하는 함수 : get_test_data()\n",
    "**전체 데이터셋에서 테스트에 사용할 데이터만큼 분리하고 그 데이터에서 독립변수와 종속변수를 분할하여 평가 데이터를 반환해주는 역할**을 한다.<br>\n",
    "<br>\n",
    "get_test_data 함수의 출력 값은 아래와 같다.\n",
    "\n",
    "- test_data[:, :-output_cnt] : 평가 함수의 독립변수\n",
    "- test_data[:, -output_cnt:] : 평가 함수의 종속변수"
   ]
  },
  {
   "cell_type": "code",
   "execution_count": 9,
   "metadata": {},
   "outputs": [],
   "source": [
    "# Test Data\n",
    "def get_test_data():\n",
    "    global data, shuffle_map, test_begin_index, output_cnt\n",
    "    test_data = data[shuffle_map[test_begin_index:]]\n",
    "    return test_data[:, :-output_cnt], test_data[:, -output_cnt:]"
   ]
  },
  {
   "cell_type": "markdown",
   "metadata": {},
   "source": [
    "### 3.4.3. 훈련 데이터를 가져오는 함수 : get_train_data(mb_size, nth)\n",
    "전체 데이터셋에서 인수값으로 전달받은 미니배치 사이즈만큼 미니배치 처리를 수행하고, 처리된 미니배치 데이터에서 독립변수와 종속변수로 나뉜다. 1 epoch당 수행하기 위한 steps만큼 미니배치 처리와 run_train을 반복한다. 또 이와 함께 훈련하며 데이터를 shuffle하는 역할도 수행한다.<br>\n",
    "<br>\n",
    "get_train_data 함수의 입력 값은 아래와 같다.\n",
    "\n",
    "- mb_size : 미니배치 크기\n",
    "- nth : steps 범위만큼 get_train_data를 수행하는 함수 -> for문에서 steps만큼 돌아감\n",
    "\n",
    "get_train_data 함수의 출력 값은 아래와 같다.\n",
    "\n",
    "- train_data[:, :-output_cnt] : 훈련 함수의 독립변수\n",
    "- train_data[:, -output_cnt:] : 훈련 함수의 종속변수"
   ]
  },
  {
   "cell_type": "code",
   "execution_count": 8,
   "metadata": {},
   "outputs": [],
   "source": [
    "# Training Data\n",
    "def get_train_data(mb_size, nth):\n",
    "    global data, shuffle_map, test_begin_index, output_cnt\n",
    "    if nth == 0:\n",
    "        np.random.shuffle(shuffle_map[:test_begin_index]) # 무작위로 특정 인덱스까지 무작위로 섞기\n",
    "    train_data = data[shuffle_map[mb_size * nth : mb_size * (nth + 1)]]\n",
    "    return train_data[:, :-output_cnt], train_data[:, -output_cnt:]"
   ]
  },
  {
   "cell_type": "markdown",
   "metadata": {},
   "source": [
    "### 3.4.4. 훈련을 직접 수행하는 함수 : run_train(x, y)\n",
    "직접 훈련을 수행하는 함수이다. \n",
    "\n",
    "사용된 함수는 아래와 같다.\n",
    "1. forward_neuralnet : 신경망의 순전파 연산 함수\n",
    "2. forward_postproc : 신경망에 따른 손실함수 연산 후처리 함수(postprocessing)\n",
    "3. eval_accuracy : 정확도 계산 함수\n",
    "4. backprop_postproc : 역전파의 편미분 연산 함수(postprocessing)\n",
    "5. backprop_neuralnet : 역전파의 기울기 갱신 함수\n",
    "\n",
    "<br>\n",
    "run_train 함수의 입력 값은 아래와 같다.\n",
    "\n",
    "- x : 종속변수 데이터\n",
    "- y : 독립변수 데이터\n",
    "\n",
    "run_train 함수의 출력 값은 아래와 같다.\n",
    "\n",
    "- loss : 손실함수 값으로 작을 수록 좋다.\n",
    "- accuracy : 정확도를 반환해준다."
   ]
  },
  {
   "cell_type": "code",
   "execution_count": 10,
   "metadata": {},
   "outputs": [],
   "source": [
    "# Running Training\n",
    "def run_train(x, y):\n",
    "    # 학습 1단계(순전파 및 학습과정)\n",
    "    output, aux_nn = forward_neuralnet(x)       # 신경망 연산, aux는 보조자료를 의미\n",
    "    loss, aux_pp = forward_postproc(output, y)  # 신경망에 따른 손실함수 연산 과정('Mean Square Error'), aux 뒤 pp는 postprocessing\n",
    "    accuracy = eval_accuracy(output, y)         \n",
    "\n",
    "    # 학습 2단계\n",
    "    G_loss = 1.0\n",
    "    G_output = backprop_postproc(G_loss, aux_pp)\n",
    "    backprop_neuralnet(G_output, aux_nn)\n",
    "\n",
    "    return loss, accuracy"
   ]
  },
  {
   "cell_type": "markdown",
   "metadata": {},
   "source": [
    "### 3.4.5. 평가를 수행하는 함수 : run_test(x, y)\n",
    "직접 훈련을 수행하는 함수이다. \n",
    "\n",
    "사용된 함수는 아래와 같다.\n",
    "1. forward_neuralnet : 신경망의 순전파 연산 함수\n",
    "2. eval_accuracy : 정확도 계산 함수\n",
    "<br>\n",
    "\n",
    "run_test 함수의 입력 값은 아래와 같다.\n",
    "\n",
    "- x : 종속변수 데이터\n",
    "- y : 독립변수 데이터\n",
    "\n",
    "run_test 함수의 출력 값은 아래와 같다.\n",
    "\n",
    "- accuracy : 정확도를 반환해준다."
   ]
  },
  {
   "cell_type": "code",
   "execution_count": 11,
   "metadata": {},
   "outputs": [],
   "source": [
    "# Running Test\n",
    "def run_test(x, y):\n",
    "    output, _ = forward_neuralnet(x)\n",
    "    accuracy = eval_accuracy(output, y)\n",
    "    return accuracy"
   ]
  },
  {
   "cell_type": "markdown",
   "metadata": {},
   "source": [
    "## 3.5. 손실함수 순전파 및 역전파 연산 과정\n",
    "우선 전복 나이 예측을 위해 사용되는 목적 함수는 평균 제곱 오차(Mean Square Error)이다.\n",
    "$$MSE = \\frac{1}{n}\\sum_{k=1}^{n} {(y_k - \\hat{y_k})^2}$$"
   ]
  },
  {
   "cell_type": "markdown",
   "metadata": {},
   "source": [
    "### 3.5.1. 순전파 연산 수행 함수 : forward_neuralnet(x)\n",
    "순전파 연산을 수행하는 함수이다. 각 입력에 대해 가중치와 편향 값을 계산하여 반환해준다.\n",
    "<br>\n",
    "forward_neuralnet 함수의 입력 값은 아래와 같다.\n",
    "\n",
    "- x : 종속변수 데이터\n",
    "\n",
    "forward_neuralnet 함수의 출력 값은 아래와 같다.\n",
    "\n",
    "- output : 순전파 수행 결과\n",
    "- x : 역전파 연산시 활용하기 위하여 x를 다시 반환해준다."
   ]
  },
  {
   "cell_type": "code",
   "execution_count": 13,
   "metadata": {},
   "outputs": [],
   "source": [
    "def forward_neuralnet(x):\n",
    "    global weight, bias\n",
    "    output = np.matmul(x, weight) + bias\n",
    "    # 두 번째 반환 값인 x는 aux_nn으로 반환처리, 역전파 수행시 활용하기 위해 정의\n",
    "    return output, x"
   ]
  },
  {
   "cell_type": "markdown",
   "metadata": {},
   "source": [
    "### 3.5.2. 순전파 후처리 함수 : forward_postproc(output, y)\n",
    "신경망의 순전파에 따른 평균 제곱 오차(Mean Square Error)를 도출하는 연산을 수행한다.<br>\n",
    "<br>\n",
    "forward_postproc 함수의 입력 값은 아래와 같다.\n",
    "\n",
    "- output : 순전파 연산 후 예측 값\n",
    "- y : 본래 데이터 실제 값 -> output과 차이를 구하기 위한 표본\n",
    "\n",
    "forward_postproc 함수의 출력 값은 아래와 같다.\n",
    "\n",
    "- loss : 손실함수 값\n",
    "- diff : 편차, 역전파 수행시 필요한 값"
   ]
  },
  {
   "cell_type": "code",
   "execution_count": 14,
   "metadata": {},
   "outputs": [],
   "source": [
    "def forward_postproc(output, y):\n",
    "    # 편차(diff) -> 제곱 -> 손실평균(loss)\n",
    "    diff = output - y\n",
    "    square = np.square(diff)\n",
    "\n",
    "    loss = np.mean(square)\n",
    "    # 편차를 반환하는 이유는 역전파 수행시 필요함(aux_pp)\n",
    "    return loss, diff"
   ]
  },
  {
   "cell_type": "markdown",
   "metadata": {},
   "source": [
    "### 3.5.3. 정확도 계산 함수 : eval_accuracy(output, y)\n",
    "정확도를 계산하는 역할을 한다.<br>\n",
    "<br>\n",
    "eval_accuracy 함수의 입력 값은 아래와 같다.\n",
    "\n",
    "- output : 순전파 연산 후 예측 값\n",
    "- y : 본래 데이터 실제 값 \n",
    "\n",
    "eval_accuracy 함수의 출력 값은 아래와 같다.\n",
    "\n",
    "- 1 - mdiff : 정확도 계산을 위해서 1에서 뺀 값을 반환한다."
   ]
  },
  {
   "cell_type": "code",
   "execution_count": 5,
   "metadata": {},
   "outputs": [],
   "source": [
    "def eval_accuracy(output, y):\n",
    "    mdiff = np.mean(np.abs((output-y) / y))\n",
    "    return 1 - mdiff"
   ]
  },
  {
   "cell_type": "markdown",
   "metadata": {},
   "source": [
    "### 3.5.4. 역전파 계산 함수 : backprop_postproc(G_loss, diff)\n",
    "역전파의 기울기를 계산하는 역할을 한다.<br>\n",
    "<br>\n",
    "backprop_postproc 함수의 입력 값은 아래와 같다.\n",
    "\n",
    "- G_loss : $\\frac{\\partial L}{\\partial MSE} = 1$\n",
    "- diff : 순전파 연산에서 가져온 편차 값\n",
    "\n",
    "backprop_postproc 함수의 출력 값은 아래와 같다.\n",
    "\n",
    "- G_output : MSE의 최종 역전파 처리 값"
   ]
  },
  {
   "cell_type": "code",
   "execution_count": 6,
   "metadata": {},
   "outputs": [],
   "source": [
    "def backprop_postproc(G_loss, diff):\n",
    "    shape = diff.shape # M, N 정보 들어가 있음.\n",
    "    g_loss_square = np.ones(shape) / np.prod(shape)\n",
    "    g_square_diff = diff * 2\n",
    "    g_diff_output = 1\n",
    "\n",
    "    G_square = g_loss_square * G_loss\n",
    "    G_diff = g_square_diff * G_square\n",
    "    G_output = g_diff_output * G_diff\n",
    "\n",
    "    return G_output"
   ]
  },
  {
   "cell_type": "markdown",
   "metadata": {},
   "source": [
    "### 3.5.5. 역전파 계산 함수 : backprop_neuralnet(G_output, x)\n",
    "가중치와 편차에 학습률을 곱해 갱신하는 역할을 한다. 따라서 앞에서 정의한 하이퍼 파라미터가 여기서 사용된다. 사용된 식은 아래와 같이 정리할 수 있다.\n",
    "[경사하강법](https://tituschoi.tistory.com/22)을 활용하여 평균 제곱 오차(MSE)를 갱신할 함수, 가중치와 편차를 갱신될 변수로 설정하고 접근한다.\n",
    "$$w := w - \\eta \\frac{\\partial MSE}{\\partial w}$$\n",
    "$$b := b - \\eta \\frac{\\partial MSE}{\\partial b}$$\n",
    "<br>\n",
    "backprop_postproc 함수의 입력 값은 아래와 같다.\n",
    "\n",
    "- G_output : 역전파 후 갱신된 기울기\n",
    "- x : 순전파에서 따로 출력해준 입력 값"
   ]
  },
  {
   "cell_type": "code",
   "execution_count": 7,
   "metadata": {},
   "outputs": [],
   "source": [
    "def backprop_neuralnet(G_output, x):\n",
    "    global weight, bias\n",
    "    g_output_w = x.transpose() # 행렬 곱을 위한 transpose\n",
    "\n",
    "    G_w = np.matmul(g_output_w, G_output)\n",
    "    G_b = np.sum(G_output, axis = 0)\n",
    "\n",
    "    weight -= LEARNING_RATE * G_w\n",
    "    bias -= LEARNING_RATE * G_b"
   ]
  },
  {
   "cell_type": "markdown",
   "metadata": {},
   "source": [
    "## 4. 실험"
   ]
  },
  {
   "cell_type": "code",
   "execution_count": 17,
   "metadata": {},
   "outputs": [
    {
     "name": "stdout",
     "output_type": "stream",
     "text": [
      "Epoch 1 : train - loss = 37.336, accuracy = 0.523, Test=0.795\n",
      "Epoch 2 : train - loss = 8.798, accuracy = 0.817, Test=0.818\n",
      "Epoch 3 : train - loss = 7.675, accuracy = 0.814, Test=0.811\n",
      "Epoch 4 : train - loss = 7.552, accuracy = 0.809, Test=0.810\n",
      "Epoch 5 : train - loss = 7.473, accuracy = 0.809, Test=0.809\n",
      "Epoch 6 : train - loss = 7.406, accuracy = 0.807, Test=0.811\n",
      "Epoch 7 : train - loss = 7.351, accuracy = 0.809, Test=0.810\n",
      "Epoch 8 : train - loss = 7.299, accuracy = 0.809, Test=0.810\n",
      "Epoch 9 : train - loss = 7.252, accuracy = 0.808, Test=0.811\n",
      "Epoch 10 : train - loss = 7.213, accuracy = 0.809, Test=0.811\n",
      "\n",
      " 최종 테스트 결과 : final accuracy = 0.811\n",
      "\n",
      "가중치 :\n",
      " [[1.03216701]\n",
      " [1.49331302]\n",
      " [1.58950247]\n",
      " [2.0296901 ]\n",
      " [1.59757436]\n",
      " [0.58972833]\n",
      " [2.44555537]\n",
      " [0.61032502]\n",
      " [0.49847128]\n",
      " [1.02251065]]\n",
      "\n",
      "편향 : [4.1136748]\n"
     ]
    }
   ],
   "source": [
    "# main 함수 동작 구간\n",
    "if __name__ == \"__main__\":\n",
    "    regression_exec()\n",
    "\n",
    "    print('\\n가중치 :\\n', weight)\n",
    "    print('\\n편향 :', bias)"
   ]
  },
  {
   "cell_type": "markdown",
   "metadata": {},
   "source": [
    "## - Reference\n",
    "설명 참고 및 Figure 2, 3 : [Likelion k-digital training 2nd](https://k-digital.likelion.net/), [파이썬 날코딩으로 알고 짜는 딥러닝](https://github.com/KONANtechnology/Academy.ALZZA)"
   ]
  },
  {
   "cell_type": "code",
   "execution_count": null,
   "metadata": {},
   "outputs": [],
   "source": []
  }
 ],
 "metadata": {
  "kernelspec": {
   "display_name": "Python 3",
   "language": "python",
   "name": "python3"
  },
  "language_info": {
   "codemirror_mode": {
    "name": "ipython",
    "version": 3
   },
   "file_extension": ".py",
   "mimetype": "text/x-python",
   "name": "python",
   "nbconvert_exporter": "python",
   "pygments_lexer": "ipython3",
   "version": "3.7.3"
  }
 },
 "nbformat": 4,
 "nbformat_minor": 4
}
