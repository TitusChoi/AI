{
 "cells": [
  {
   "cell_type": "markdown",
   "metadata": {},
   "source": [
    "# [Jupyter]MLP.ipynb\n",
    "Description   : Multiple layer perceptron for regression<br>\n",
    "다층 은닉층을 가진 퍼셉트론 신경망 구축을 위해 회귀에서 활용되던 기본 함수를 가져왔다.<br>"
   ]
  },
  {
   "cell_type": "code",
   "execution_count": 1,
   "metadata": {},
   "outputs": [],
   "source": [
    "import os\n",
    "\n",
    "# 경로 초기화\n",
    "os.chdir(r\"C:\\Users\\TitusChoi\\Desktop\\Library\\CodeLion\\AI\")"
   ]
  },
  {
   "cell_type": "code",
   "execution_count": 2,
   "metadata": {},
   "outputs": [],
   "source": [
    "import numpy as np\n",
    "import csv\n",
    "\n",
    "# Hyperparameter\n",
    "np.random.seed(1024)\n",
    "RND_MEAN = 0\n",
    "RND_STD = 0.003\n",
    "LEARNING_RATE = 0.003"
   ]
  },
  {
   "cell_type": "code",
   "execution_count": 3,
   "metadata": {},
   "outputs": [],
   "source": [
    "# Main function\n",
    "def mlp_exec(epochs = 100, mb_size = 100, report = 10, tr = 0.75): # 학습 횟수, 미니 배치 사이즈, 학습 리포트, 훈련 비율(데이터 전부 훈련시키지 않고 그 중 훈련 비율만큼 훈련, 나머지는 시험 비율이 된다.)\n",
    "    multiple_load_dataset() # 데이터 셋 여는 함수\n",
    "    init_model() # 가중치와 편향 초기화 함수\n",
    "    train_and_test(epochs, mb_size, report, tr) # 학습 및 신경망 성능 테스트 함수"
   ]
  },
  {
   "cell_type": "code",
   "execution_count": 32,
   "metadata": {},
   "outputs": [],
   "source": [
    "def init_model():\n",
    "    global hidden_config\n",
    "    if hidden_config is not None:\n",
    "        print('은닉 계층 {}개의 다층 퍼셉트론이 작동되었습니다.'. \\\n",
    "              format(len(hidden_config)))\n",
    "        init_model_hiddens()\n",
    "    else:\n",
    "        print('은닉 계층 1개의 다층 퍼셉트론이 작동되었습니다.')\n",
    "        init_model_hidden()"
   ]
  },
  {
   "cell_type": "code",
   "execution_count": 5,
   "metadata": {},
   "outputs": [],
   "source": [
    "def set_hidden(info):\n",
    "    global hidden_cnt, hidden_config\n",
    "    if isinstance(info, int):\n",
    "        hidden_cnt = info\n",
    "        hidden_config = None\n",
    "    else:\n",
    "        hidden_config = info"
   ]
  },
  {
   "cell_type": "code",
   "execution_count": 6,
   "metadata": {},
   "outputs": [],
   "source": [
    "# Data load, one-hot encoding\n",
    "def multiple_load_dataset():\n",
    "    # Loading datasets\n",
    "    with open('./datasets/abalone.csv') as csvfile:\n",
    "        csvreader = csv.reader(csvfile)\n",
    "        next(csvreader, None) # 첫 번째 index 건너뛰고 none으로 반환\n",
    "        rows = []\n",
    "        for row in csvreader:\n",
    "            rows.append(row)\n",
    "\n",
    "    # Global Variable : 함수 구축 시 주요하게 사용되는 변수를 확인하기 위한 장점때문에 사용\n",
    "    global data, input_cnt, output_cnt\n",
    "    input_cnt, output_cnt = 10, 1 # 독립변수의 크기와 종속변수의 크기\n",
    "    \n",
    "    # Buffer\n",
    "    data = np.zeros([len(rows), input_cnt + output_cnt])\n",
    "\n",
    "    # One-hot encoding\n",
    "    for index, row in enumerate(rows):\n",
    "        if row[0] == 'I' : data[index, 0] = 1\n",
    "        elif row[0] == 'M' : data[index, 1] = 1\n",
    "        elif row[0] == 'F' : data[index, 2] = 1\n",
    "        data[index, 3:] = row[1:]"
   ]
  },
  {
   "cell_type": "code",
   "execution_count": 7,
   "metadata": {},
   "outputs": [],
   "source": [
    "# Train and Test / Result check\n",
    "def train_and_test(epochs, mb_size, report, tr):\n",
    "    steps = arrange_data(mb_size, tr)           # 반환하는 값은 미니배치가 몇 덩어리(스텝)으로 쪼개지는지?\n",
    "    test_x, test_y = get_test_data()               # 테스트 데이터에 대한 독립변수와 종속변수를 얻어내는 함수\n",
    "\n",
    "    # epochs는 외부 for문으로 돌림\n",
    "    # 미니배치는 내부 for문으로 돌리기 때문에 시간복잡도 증가\n",
    "    for epoch in range(epochs):\n",
    "        losses, accuracies = [], [] # epochs당 손실함수와 정확도 for 평균\n",
    "        for n in range(steps):\n",
    "            train_x, train_y = get_train_data(mb_size, n) # 미니배치 사이즈와 스텝의 수만큼 개별값을 받아 학습데이터의 독립, 종속변수 반환\n",
    "            loss, accuracy = run_train(train_x, train_y)\n",
    "            losses.append(loss)\n",
    "            accuracies.append(accuracy)\n",
    "        \n",
    "        if report > 0 and (epoch + 1) % report == 0:\n",
    "            accuracy = run_test(test_x, test_y)\n",
    "            print('Epoch {} : loss = {:5.3f}, accuracy = {:5.3f}, Test={:5.3f}'\\\n",
    "                .format(epoch + 1, np.mean(losses), np.mean(accuracies), accuracy))\n",
    "    \n",
    "    final_accuracy = run_test(test_x, test_y)\n",
    "    print(\"\\n 최종 테스트 결과 : final accuracy = {:5.3f}\\n\".format(final_accuracy))"
   ]
  },
  {
   "cell_type": "code",
   "execution_count": 8,
   "metadata": {},
   "outputs": [],
   "source": [
    "# Datasets Shuffle -> mini batch size\n",
    "def arrange_data(mb_size, tr):\n",
    "    global data, shuffle_map, test_begin_index\n",
    "    shuffle_map = np.arange(data.shape[0])\n",
    "    np.random.shuffle(shuffle_map)\n",
    "    # 미니 배치 스텝 수를 구하는 과정\n",
    "    steps = int(data.shape[0] * tr) // mb_size\n",
    "\n",
    "    # Search boundary line\n",
    "    test_begin_index = steps * mb_size\n",
    "    return steps"
   ]
  },
  {
   "cell_type": "code",
   "execution_count": 9,
   "metadata": {},
   "outputs": [],
   "source": [
    "# Training Data\n",
    "def get_train_data(mb_size, nth):\n",
    "    global data, shuffle_map, test_begin_index, output_cnt\n",
    "    if nth == 0:\n",
    "        np.random.shuffle(shuffle_map[:test_begin_index]) # 무작위로 특정 인덱스까지 무작위로 섞기\n",
    "    train_data = data[shuffle_map[mb_size * nth : mb_size * (nth + 1)]]\n",
    "    return train_data[:, :-output_cnt], train_data[:, -output_cnt:]"
   ]
  },
  {
   "cell_type": "code",
   "execution_count": 10,
   "metadata": {},
   "outputs": [],
   "source": [
    "# Test Data\n",
    "def get_test_data():\n",
    "    global data, shuffle_map, test_begin_index, output_cnt\n",
    "    test_data = data[shuffle_map[test_begin_index:]]\n",
    "    return test_data[:, :-output_cnt], test_data[:, -output_cnt:]"
   ]
  },
  {
   "cell_type": "code",
   "execution_count": 11,
   "metadata": {},
   "outputs": [],
   "source": [
    "# Running Training\n",
    "def run_train(x, y):\n",
    "    output, aux_nn = forward_neuralnet(x)       # 신경망 연산, aux는 보조자료를 의미\n",
    "    loss, aux_pp = forward_postproc(output, y)  # 신경망에 따른 손실함수 연산 과정('Mean Square Error'), aux 뒤 pp는 postprocessing\n",
    "    \n",
    "    # 학습 1단계(순전파 및 학습과정)\n",
    "    accuracy = eval_accuracy(output, y)         \n",
    "\n",
    "    # 학습 2단계\n",
    "    G_loss = 1.0\n",
    "    G_output = backprop_postproc(G_loss, aux_pp)\n",
    "    backprop_neuralnet(G_output, aux_nn)\n",
    "\n",
    "    return loss, accuracy"
   ]
  },
  {
   "cell_type": "code",
   "execution_count": 12,
   "metadata": {},
   "outputs": [],
   "source": [
    "# Running Test\n",
    "def run_test(x, y):\n",
    "    output, _ = forward_neuralnet(x)\n",
    "    accuracy = eval_accuracy(output, y)\n",
    "    return accuracy"
   ]
  },
  {
   "cell_type": "code",
   "execution_count": 13,
   "metadata": {},
   "outputs": [],
   "source": [
    "# Forward Propagation Postprocessing : 신경망의 순전파에 따른 Mean Square Error를 도출하는 연산 \n",
    "def forward_postproc(output, y):\n",
    "    # 편차(diff) -> 제곱 -> 손실평균(loss)\n",
    "    diff = output - y\n",
    "    square = np.square(diff)\n",
    "\n",
    "    loss = np.mean(square)\n",
    "    # 편차를 반환하는 이유는 역전파 수행시 필요함(aux_pp)\n",
    "    return loss, diff"
   ]
  },
  {
   "cell_type": "code",
   "execution_count": 14,
   "metadata": {},
   "outputs": [],
   "source": [
    "# Backpropagation Postprocessing : 신경망의 역전파에 따른 선행 연산\n",
    "def backprop_postproc(G_loss, diff):\n",
    "    shape = diff.shape # M, N 정보 들어가 있음.\n",
    "    g_loss_square = np.ones(shape) / np.prod(shape)\n",
    "    g_square_diff = diff * 2\n",
    "    g_diff_output = 1\n",
    "\n",
    "    G_square = g_loss_square * G_loss\n",
    "    G_diff = g_square_diff * G_square\n",
    "    G_output = g_diff_output * G_diff\n",
    "\n",
    "    return G_output"
   ]
  },
  {
   "cell_type": "code",
   "execution_count": 15,
   "metadata": {},
   "outputs": [],
   "source": [
    "# hidden layer 구성\n",
    "def init_model_hidden():\n",
    "    global pm_output, pm_hidden, input_cnt, output_cnt, hidden_cnt\n",
    "\n",
    "    pm_hidden = allocate_param_pair([input_cnt, hidden_cnt]) # parameter 값들\n",
    "    pm_output = allocate_param_pair([hidden_cnt, output_cnt])"
   ]
  },
  {
   "cell_type": "code",
   "execution_count": 16,
   "metadata": {},
   "outputs": [],
   "source": [
    "def alloc_param_pair(shape):\n",
    "    weight = np.random.normal(RND_MEAN, RND_STD, shape)\n",
    "    bias = np.zeros(shape[-1])\n",
    "    return {'w':weight, 'b':bias}"
   ]
  },
  {
   "cell_type": "code",
   "execution_count": 17,
   "metadata": {},
   "outputs": [],
   "source": [
    "# hypermarameter 통해 weight와 bias 할당\n",
    "def allocate_param_pair(shape):\n",
    "    weight = np.random.normal(RND_MEAN, RND_STD, shape)\n",
    "    # 편향은 항상 출력 퍼셉트론의 크기와 통일, -1을 넣어 출력 크기에 맞춰 형성\n",
    "    bias = np.zeros(shape[-1])\n",
    "    return {'w' : weight, 'b' : bias} # 딕셔너리 형태로 할당"
   ]
  },
  {
   "cell_type": "code",
   "execution_count": 18,
   "metadata": {},
   "outputs": [],
   "source": [
    "def forward_neuralnet(x):\n",
    "    global hidden_config\n",
    "    if hidden_config is not None:\n",
    "        return forward_neuralnet_hiddens(x)\n",
    "    else:\n",
    "        return forward_neuralnet_hidden(x)"
   ]
  },
  {
   "cell_type": "code",
   "execution_count": 19,
   "metadata": {},
   "outputs": [],
   "source": [
    "# forward neural network : 하나의 은닉 계층만을 사용\n",
    "def forward_neuralnet_hidden(x):\n",
    "    global pm_output, pm_hidden\n",
    "    \n",
    "    hidden = relu(np.matmul(x, pm_hidden['w']) + pm_hidden['b'])\n",
    "    output = np.matmul(hidden, pm_output['w']) + pm_output['b']\n",
    "    \n",
    "    return output, [x, hidden]"
   ]
  },
  {
   "cell_type": "code",
   "execution_count": 20,
   "metadata": {},
   "outputs": [],
   "source": [
    "# activation function\n",
    "def relu(x):\n",
    "    return np.maximum(x, 0)"
   ]
  },
  {
   "cell_type": "code",
   "execution_count": 21,
   "metadata": {},
   "outputs": [],
   "source": [
    "# backpropagation neural network : 하나의 은닉 계층만을 사용, 은닉 파라미터 실제 갱신 과정\n",
    "def backprop_neuralnet_hidden(G_output, aux):\n",
    "    global pm_output, pm_hidden\n",
    "    x, hidden = aux\n",
    "\n",
    "    g_output_w_out = hidden.transpose()\n",
    "    G_w_output = np.matmul(g_output_w_out, G_output)\n",
    "    G_b_output = np.sum(G_output, axis = 0)\n",
    "\n",
    "    g_output_hidden = pm_output['w'].transpose()\n",
    "    G_hidden = np.matmul(G_output, g_output_hidden)\n",
    "\n",
    "    # 출력 계층 파라미터 갱신\n",
    "    pm_output['w'] -= LEARNING_RATE * G_w_output\n",
    "    pm_output['b'] -= LEARNING_RATE * G_b_output\n",
    "\n",
    "    G_hidden = G_hidden * relu_derv(hidden)\n",
    "\n",
    "    g_hidden_w_hidden = x.transpose()\n",
    "\n",
    "    # 은닉 계층의 파라미터 갱신\n",
    "    G_w_hidden = np.matmul(g_hidden_w_hidden, G_hidden)\n",
    "    G_b_hidden = np.sum(G_hidden, axis = 0)\n",
    "\n",
    "    # 학습률을 반영한 은닉 계층의 파라미터 갱신\n",
    "    pm_hidden['w'] -= LEARNING_RATE * G_w_hidden\n",
    "    pm_hidden['b'] -= LEARNING_RATE * G_b_hidden"
   ]
  },
  {
   "cell_type": "code",
   "execution_count": 22,
   "metadata": {},
   "outputs": [],
   "source": [
    "# for multiple layer perceptron\n",
    "def init_model_hiddens(): \n",
    "    global pm_output, pm_hiddens, input_cnt, output_cnt, hidden_config\n",
    "    \n",
    "    pm_hiddens = []\n",
    "    prev_cnt = input_cnt\n",
    "    \n",
    "    for hidden_cnt in hidden_config:\n",
    "        pm_hiddens.append(alloc_param_pair([prev_cnt, hidden_cnt]))\n",
    "        prev_cnt = hidden_cnt\n",
    "    \n",
    "    pm_output = alloc_param_pair([prev_cnt, output_cnt])"
   ]
  },
  {
   "cell_type": "code",
   "execution_count": 23,
   "metadata": {},
   "outputs": [],
   "source": [
    "def backprop_neuralnet(G_output, hiddens):\n",
    "    global hidden_config\n",
    "    if hidden_config is not None:\n",
    "        backprop_neuralnet_hiddens(G_output, hiddens)\n",
    "    else:\n",
    "        backprop_neuralnet_hidden(G_output, hiddens)"
   ]
  },
  {
   "cell_type": "code",
   "execution_count": 24,
   "metadata": {},
   "outputs": [],
   "source": [
    "# for multiple layer perceptron\n",
    "def forward_neuralnet_hiddens(x):\n",
    "    global pm_output, pm_hiddens\n",
    "    \n",
    "    hidden = x\n",
    "    hiddens = [x]\n",
    "    \n",
    "    for pm_hidden in pm_hiddens:\n",
    "        hidden = relu(np.matmul(hidden, pm_hidden['w']) + pm_hidden['b'])\n",
    "        hiddens.append(hidden)\n",
    "        \n",
    "    output = np.matmul(hidden, pm_output['w']) + pm_output['b']\n",
    "    \n",
    "    return output, hiddens"
   ]
  },
  {
   "cell_type": "code",
   "execution_count": 25,
   "metadata": {},
   "outputs": [],
   "source": [
    "# for multiple layer perceptron\n",
    "def backprop_neuralnet_hiddens(G_output, aux):\n",
    "    global pm_output, pm_hiddens\n",
    "\n",
    "    hiddens = aux\n",
    "    \n",
    "    g_output_w_out = hiddens[-1].transpose()\n",
    "    G_w_out = np.matmul(g_output_w_out, G_output)\n",
    "    G_b_out = np.sum(G_output, axis=0)\n",
    "\n",
    "    g_output_hidden = pm_output['w'].transpose() \n",
    "    G_hidden = np.matmul(G_output, g_output_hidden)\n",
    "\n",
    "    pm_output['w'] -= LEARNING_RATE * G_w_out\n",
    "    pm_output['b'] -= LEARNING_RATE * G_b_out\n",
    "    \n",
    "    for n in reversed(range(len(pm_hiddens))):\n",
    "        G_hidden = G_hidden * relu_derv(hiddens[n+1])\n",
    "\n",
    "        g_hidden_w_hid = hiddens[n].transpose()\n",
    "        G_w_hid = np.matmul(g_hidden_w_hid, G_hidden)\n",
    "        G_b_hid = np.sum(G_hidden, axis=0)\n",
    "    \n",
    "        g_hidden_hidden = pm_hiddens[n]['w'].transpose()\n",
    "        G_hidden = np.matmul(G_hidden, g_hidden_hidden)\n",
    "\n",
    "        pm_hiddens[n]['w'] -= LEARNING_RATE * G_w_hid\n",
    "        pm_hiddens[n]['b'] -= LEARNING_RATE * G_b_hid"
   ]
  },
  {
   "cell_type": "code",
   "execution_count": 26,
   "metadata": {},
   "outputs": [],
   "source": [
    "def relu_derv(x):\n",
    "    return np.sign(x)"
   ]
  },
  {
   "cell_type": "code",
   "execution_count": 27,
   "metadata": {},
   "outputs": [],
   "source": [
    "# Evaluating Accuracy\n",
    "def eval_accuracy(output, y):\n",
    "    mdiff = np.mean(np.abs((output-y) / y))\n",
    "    return 1 - mdiff"
   ]
  },
  {
   "cell_type": "code",
   "execution_count": 33,
   "metadata": {},
   "outputs": [
    {
     "name": "stdout",
     "output_type": "stream",
     "text": [
      "은닉 계층 1개의 다층 퍼셉트론이 작동되었습니다.\n",
      "Epoch 10 : loss = 7.047, accuracy = 0.804, Test=0.801\n",
      "Epoch 20 : loss = 6.929, accuracy = 0.805, Test=0.803\n",
      "Epoch 30 : loss = 6.813, accuracy = 0.807, Test=0.804\n",
      "Epoch 40 : loss = 6.690, accuracy = 0.810, Test=0.802\n",
      "Epoch 50 : loss = 6.569, accuracy = 0.812, Test=0.808\n",
      "Epoch 60 : loss = 6.422, accuracy = 0.813, Test=0.809\n",
      "Epoch 70 : loss = 6.261, accuracy = 0.815, Test=0.814\n",
      "Epoch 80 : loss = 6.081, accuracy = 0.818, Test=0.821\n",
      "Epoch 90 : loss = 5.885, accuracy = 0.821, Test=0.824\n",
      "Epoch 100 : loss = 5.694, accuracy = 0.825, Test=0.823\n",
      "\n",
      " 최종 테스트 결과 : final accuracy = 0.823\n",
      "\n"
     ]
    }
   ],
   "source": [
    "# main 함수 동작 구간\n",
    "if __name__ == \"__main__\":\n",
    "    # 은닉 계층 한 개\n",
    "    set_hidden(3)\n",
    "    mlp_exec()"
   ]
  },
  {
   "cell_type": "code",
   "execution_count": 34,
   "metadata": {},
   "outputs": [
    {
     "name": "stdout",
     "output_type": "stream",
     "text": [
      "은닉 계층 2개의 다층 퍼셉트론이 작동되었습니다.\n",
      "Epoch 10 : loss = 10.102, accuracy = 0.735, Test=0.719\n",
      "Epoch 20 : loss = 9.064, accuracy = 0.742, Test=0.731\n",
      "Epoch 30 : loss = 6.946, accuracy = 0.791, Test=0.784\n",
      "Epoch 40 : loss = 6.697, accuracy = 0.801, Test=0.794\n",
      "Epoch 50 : loss = 6.535, accuracy = 0.807, Test=0.795\n",
      "Epoch 60 : loss = 6.325, accuracy = 0.810, Test=0.799\n",
      "Epoch 70 : loss = 6.000, accuracy = 0.816, Test=0.804\n",
      "Epoch 80 : loss = 5.524, accuracy = 0.823, Test=0.814\n",
      "Epoch 90 : loss = 5.080, accuracy = 0.831, Test=0.837\n",
      "Epoch 100 : loss = 4.876, accuracy = 0.835, Test=0.832\n",
      "\n",
      " 최종 테스트 결과 : final accuracy = 0.832\n",
      "\n"
     ]
    }
   ],
   "source": [
    "    # 은닉 계층 2개\n",
    "    set_hidden([3, 12])\n",
    "    mlp_exec()"
   ]
  },
  {
   "cell_type": "code",
   "execution_count": null,
   "metadata": {},
   "outputs": [],
   "source": []
  }
 ],
 "metadata": {
  "kernelspec": {
   "display_name": "Python 3",
   "language": "python",
   "name": "python3"
  },
  "language_info": {
   "codemirror_mode": {
    "name": "ipython",
    "version": 3
   },
   "file_extension": ".py",
   "mimetype": "text/x-python",
   "name": "python",
   "nbconvert_exporter": "python",
   "pygments_lexer": "ipython3",
   "version": "3.7.3"
  }
 },
 "nbformat": 4,
 "nbformat_minor": 2
}
