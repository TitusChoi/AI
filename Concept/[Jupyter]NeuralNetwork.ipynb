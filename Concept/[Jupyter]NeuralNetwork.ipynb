{
 "cells": [
  {
   "cell_type": "markdown",
   "metadata": {},
   "source": [
    "# [Jupyter]NeuralNetwork.ipynb\n",
    "Description   : Neural network"
   ]
  },
  {
   "source": [
    "신경망을 직접 구현하여 회귀를 활용해보기로 한다.<br>\n",
    "많은 예시로 사용되고 있는 전복의 나이 예측 단층 퍼셉트론 신경망을 구현해보자."
   ],
   "cell_type": "markdown",
   "metadata": {}
  },
  {
   "cell_type": "code",
   "execution_count": 8,
   "metadata": {},
   "outputs": [],
   "source": [
    "import numpy as np\n",
    "import csv\n",
    "import matplotlib.pyplot as plt\n",
    "import os\n",
    "\n",
    "np.random.seed(1500)\n",
    "# 경로 초기화\n",
    "os.chdir(r\"C:\\Users\\TitusChoi\\Desktop\\Library\\CodeLion\\AI\")"
   ]
  },
  {
   "cell_type": "code",
   "execution_count": 9,
   "metadata": {},
   "outputs": [],
   "source": [
    "# Hyperparameter\n",
    "RND_MEAN = 0\n",
    "RND_STD = 0.0030\n",
    "\n",
    "LEARNING_RATE = 0.001"
   ]
  },
  {
   "cell_type": "code",
   "execution_count": 10,
   "metadata": {},
   "outputs": [],
   "source": [
    "# Main function\n",
    "def main_exec(epochs = 10, mb_size = 10, report = 1, tr = 0.7): # 학습 횟수, 미니 배치 사이즈, 학습 리포트, 훈련 비율(데이터 전부 훈련시키지 않고 그 중 훈련 비율만큼 훈련, 나머지는 시험 비율이 된다.)\n",
    "    load_dataset() # 데이터 셋 여는 함수\n",
    "    init_model() # 가중치와 편향 초기화 함수\n",
    "    train_and_test(epochs, mb_size, report, lr) # 학습 및 신경망 성능 테스트 함수"
   ]
  },
  {
   "cell_type": "code",
   "execution_count": 13,
   "metadata": {},
   "outputs": [
    {
     "output_type": "stream",
     "name": "stdout",
     "text": [
      "[[ 0.      1.      0.     ...  0.101   0.15   15.    ]\n [ 0.      1.      0.     ...  0.0485  0.07    7.    ]\n [ 0.      0.      1.     ...  0.1415  0.21    9.    ]\n ...\n [ 0.      1.      0.     ...  0.2875  0.308   9.    ]\n [ 0.      0.      1.     ...  0.261   0.296  10.    ]\n [ 0.      1.      0.     ...  0.3765  0.495  12.    ]]\n"
     ]
    }
   ],
   "source": [
    "# Data load, one-hot encoding\n",
    "def load_dataset():\n",
    "    # Loading datasets\n",
    "    with open('./datasets/abalone.csv') as csvfile:\n",
    "        csvreader = csv.reader(csvfile)\n",
    "        next(csvreader, None) # 첫 번째 index 건너뛰고 none으로 반환\n",
    "        rows = []\n",
    "        for row in csvreader:\n",
    "            rows.append(row)\n",
    "\n",
    "    # Global Variable\n",
    "    global data, input_cnt, output_cnt\n",
    "    input_cnt, output_cnt = 10, 1 # 독립변수의 크기와 종속변수의 크기\n",
    "    \n",
    "    # Buffer\n",
    "    data = np.zeros([len(rows), input_cnt + output_cnt])\n",
    "\n",
    "    # One-hot encoding\n",
    "    for index, row in enumerate(rows):\n",
    "        if row[0] == 'I' : data[index, 0] = 1\n",
    "        elif row[0] == 'M' : data[index, 1] = 1\n",
    "        elif row[0] == 'F' : data[index, 2] = 1\n",
    "        data[index, 3:] = row[1:]"
   ]
  },
  {
   "cell_type": "code",
   "execution_count": 14,
   "metadata": {},
   "outputs": [],
   "source": [
    "# Parameter Initialization\n",
    "def init_model():\n",
    "    global weight, bias, input_cnt, output_cnt\n",
    "    weight = np.random.normal(RND_MEAN, RND_STD, [input_cnt, output_cnt])\n",
    "    bias = np.zeros([output_cnt])"
   ]
  },
  {
   "cell_type": "code",
   "execution_count": 18,
   "metadata": {},
   "outputs": [],
   "source": [
    "# Train and Test / Result check\n",
    "def train_and_test(epochs, mb_size, report, tr):\n",
    "    steps = arrange_data(mb_size, tr)           # 반환하는 값은 미니배치가 몇 덩어리(스텝)으로 쪼개지는지?\n",
    "    test_x, test_y = get_test_data()               # 테스트 데이터에 대한 독립변수와 종속변수를 얻어내는 함수\n",
    "\n",
    "    # epochs는 외부 for문으로 돌림\n",
    "    # 미니배치는 내부 for문으로 돌리기 때문에 시간복잡도 증가\n",
    "    for epoch in range(epochs):\n",
    "        losses, accuracies = [], [] # epochs당 손실함수와 정확도 for 평균\n",
    "        for n in range(steps):\n",
    "            train_x, train_y = get_train_data(mb_size, n) # 미니배치 사이즈와 스텝의 수만큼 개별값을 받아 학습데이터의 독립, 종속변수 반환\n",
    "            loss, accuracy = run_train(train_x, train_y)\n",
    "            losses.append(loss)\n",
    "            accuracies.append(accuracy)\n",
    "        \n",
    "        if report > 0 and (epoch + 1) % report == 0:\n",
    "            accuracy = run_test(test_x, test_y)\n",
    "            print('Epoch {} : train - loss = {:5.3f}, accuracy = {:5.3f}, Test={:5.3f}'\\\n",
    "                .format(epoch + 1, np.mean(losses), np.mean(accuracies), accuracy))\n",
    "    \n",
    "    final_accuracy = run_test(test_x, test_y)\n",
    "    print(\"\\n 최종 테스트 결과 : final accuracy = {:5.3f}\".format(final_accuracy))"
   ]
  },
  {
   "cell_type": "code",
   "execution_count": null,
   "metadata": {},
   "outputs": [],
   "source": []
  }
 ],
 "metadata": {
  "kernelspec": {
   "display_name": "Python 3",
   "language": "python",
   "name": "python3"
  },
  "language_info": {
   "codemirror_mode": {
    "name": "ipython",
    "version": 3
   },
   "file_extension": ".py",
   "mimetype": "text/x-python",
   "name": "python",
   "nbconvert_exporter": "python",
   "pygments_lexer": "ipython3",
   "version": "3.7.3-final"
  }
 },
 "nbformat": 4,
 "nbformat_minor": 2
}