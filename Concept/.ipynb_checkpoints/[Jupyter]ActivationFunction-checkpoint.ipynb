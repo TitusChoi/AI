{
 "cells": [
  {
   "cell_type": "markdown",
   "metadata": {},
   "source": [
    "# [Jupyter]ActivationFunction.ipynb\n",
    "Description   : Activation Function"
   ]
  },
  {
   "cell_type": "markdown",
   "metadata": {},
   "source": [
    "## 1. 활성화 함수의 오버 플로우 방지\n",
    "활성화 함수 중 시그모이드(sigmoid) 함수와 소프트맥스(softmax) 함수는 오버플로우(overflow) 문제가 발생하는 경우가 존재한다.<br>\n",
    "아래는 오버플로우 문제와 이를 해결하기 위한 방법이다."
   ]
  },
  {
   "cell_type": "code",
   "execution_count": 1,
   "metadata": {},
   "outputs": [
    {
     "name": "stdout",
     "output_type": "stream",
     "text": [
      "0.0\n",
      "ipykernel_launcher:5: RuntimeWarning: overflow encountered in exp\n"
     ]
    }
   ],
   "source": [
    "import numpy as np\n",
    "\n",
    "# overflow 발생\n",
    "def past_sigmoid(x):\n",
    "    y = 1.0 / (1.0 + (np.exp(-x)))\n",
    "    print(y)\n",
    "\n",
    "x = -1000\n",
    "past_sigmoid(x)"
   ]
  },
  {
   "cell_type": "code",
   "execution_count": 2,
   "metadata": {},
   "outputs": [
    {
     "name": "stdout",
     "output_type": "stream",
     "text": [
      "0.0\n"
     ]
    }
   ],
   "source": [
    "# overflow 해결\n",
    "def improved_sigmoid(x):\n",
    "    y = np.exp(x) / (1.0 + (np.exp(x)))\n",
    "    print(y)\n",
    "\n",
    "x = -1000\n",
    "improved_sigmoid(x)"
   ]
  },
  {
   "cell_type": "code",
   "execution_count": 3,
   "metadata": {},
   "outputs": [
    {
     "name": "stdout",
     "output_type": "stream",
     "text": [
      "0.5\n"
     ]
    }
   ],
   "source": [
    "# 최종 sigmoid 형태 : 이진분류 0, 1 고려\n",
    "def sigmoid(x):\n",
    "    y = np.exp(-max(-x, 0)) / (1.0 + (np.exp(-abs(x))))\n",
    "    print(y)\n",
    "\n",
    "x = 0\n",
    "sigmoid(x)"
   ]
  }
 ],
 "metadata": {
  "kernelspec": {
   "display_name": "Python 3",
   "language": "python",
   "name": "python3"
  },
  "language_info": {
   "codemirror_mode": {
    "name": "ipython",
    "version": 3
   },
   "file_extension": ".py",
   "mimetype": "text/x-python",
   "name": "python",
   "nbconvert_exporter": "python",
   "pygments_lexer": "ipython3",
   "version": "3.7.3"
  }
 },
 "nbformat": 4,
 "nbformat_minor": 2
}
